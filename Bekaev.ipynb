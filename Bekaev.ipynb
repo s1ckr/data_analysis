{
 "cells": [
  {
   "cell_type": "markdown",
   "metadata": {},
   "source": [
    "# Исследовательский проект по НИС «Анализ данных в Python». Часть I"
   ]
  },
  {
   "cell_type": "markdown",
   "metadata": {},
   "source": [
    "# Команда: Магомед Бекаев, Ольга Шавочкина\n"
   ]
  },
  {
   "cell_type": "markdown",
   "metadata": {},
   "source": [
    "## Датасет\n",
    "https://www.kaggle.com/mylesoneill/world-university-rankings"
   ]
  },
  {
   "cell_type": "markdown",
   "metadata": {},
   "source": [
    "Нашей командой был выбран набор данных <b> World University Rating </b>, а точнее, <b>Times Higher Education World University Rankings</b> -- \"глобальный рейтинг университетов, ежегодно публикуемый журналом Times Higher Education (THE). Рейтинг THE считается одним из наиболее авторитетных международных рейтингов университетов наряду с Academic Ranking of World Universities и QS World University Rankings\" (c) wikipedia."
   ]
  },
  {
   "attachments": {},
   "cell_type": "markdown",
   "metadata": {},
   "source": [
    "### Описание переменных\n",
    "world_rank – место университета в мире\n",
    "university_name – название университета\n",
    "country – страна университета\n",
    "teaching – оценка образовательной деятельности, от 0 до 100\n",
    "international – открытость к другим странам, от 0 до 100\n",
    "research – исследовательская деятельность, от 0 до 100\n",
    "citations – упоминания, цитирования университета, от 0 до 100\n",
    "income – доход, от 0 до 100, 218 отсутствующих значений\n",
    "total_score – общая оценка университета, от 0 до 100, 1402 отсутствующих значения\n",
    "num_students – число студентов, 59 отсутствующих значений\n",
    "student_staff_ratio – число сотрудников*100/число студентов, 59 отсутствующих значений\n",
    "international_students – процент заграничных студентов, 67 отсутствующих значений\n",
    "female_male_ratio – запись вида “a:b” такая, что a + b = 100, 233 отсутствующих значений\n",
    "year – дата сбора данных \n",
    "\n",
    "Категориальные переменные, номинальные: university_name, country\n",
    "\n",
    "Количественные переменные, дискретные: teaching, international, research, citations, income, total_score, international_students, student_staff_ratio, female_male_ratio\n",
    "\n",
    "Количественные переменные, непрерывные: num_students, year"
   ]
  },
  {
   "cell_type": "code",
   "execution_count": 248,
   "metadata": {},
   "outputs": [],
   "source": [
    "import pandas as pd\n",
    "df = pd.read_csv(\"timesData.csv\", thousands=',')"
   ]
  },
  {
   "cell_type": "code",
   "execution_count": 249,
   "metadata": {},
   "outputs": [],
   "source": [
    "import matplotlib.pyplot as plt"
   ]
  },
  {
   "cell_type": "code",
   "execution_count": 250,
   "metadata": {},
   "outputs": [
    {
     "data": {
      "text/html": [
       "<div>\n",
       "<style scoped>\n",
       "    .dataframe tbody tr th:only-of-type {\n",
       "        vertical-align: middle;\n",
       "    }\n",
       "\n",
       "    .dataframe tbody tr th {\n",
       "        vertical-align: top;\n",
       "    }\n",
       "\n",
       "    .dataframe thead th {\n",
       "        text-align: right;\n",
       "    }\n",
       "</style>\n",
       "<table border=\"1\" class=\"dataframe\">\n",
       "  <thead>\n",
       "    <tr style=\"text-align: right;\">\n",
       "      <th></th>\n",
       "      <th>world_rank</th>\n",
       "      <th>university_name</th>\n",
       "      <th>country</th>\n",
       "      <th>teaching</th>\n",
       "      <th>international</th>\n",
       "      <th>research</th>\n",
       "      <th>citations</th>\n",
       "      <th>income</th>\n",
       "      <th>total_score</th>\n",
       "      <th>num_students</th>\n",
       "      <th>student_staff_ratio</th>\n",
       "      <th>international_students</th>\n",
       "      <th>female_male_ratio</th>\n",
       "      <th>year</th>\n",
       "    </tr>\n",
       "  </thead>\n",
       "  <tbody>\n",
       "    <tr>\n",
       "      <th>0</th>\n",
       "      <td>1</td>\n",
       "      <td>Harvard University</td>\n",
       "      <td>United States of America</td>\n",
       "      <td>99.7</td>\n",
       "      <td>72.4</td>\n",
       "      <td>98.7</td>\n",
       "      <td>98.8</td>\n",
       "      <td>34.5</td>\n",
       "      <td>96.1</td>\n",
       "      <td>20152.0</td>\n",
       "      <td>8.9</td>\n",
       "      <td>25%</td>\n",
       "      <td>NaN</td>\n",
       "      <td>2011</td>\n",
       "    </tr>\n",
       "    <tr>\n",
       "      <th>1</th>\n",
       "      <td>2</td>\n",
       "      <td>California Institute of Technology</td>\n",
       "      <td>United States of America</td>\n",
       "      <td>97.7</td>\n",
       "      <td>54.6</td>\n",
       "      <td>98.0</td>\n",
       "      <td>99.9</td>\n",
       "      <td>83.7</td>\n",
       "      <td>96.0</td>\n",
       "      <td>2243.0</td>\n",
       "      <td>6.9</td>\n",
       "      <td>27%</td>\n",
       "      <td>33 : 67</td>\n",
       "      <td>2011</td>\n",
       "    </tr>\n",
       "    <tr>\n",
       "      <th>2</th>\n",
       "      <td>3</td>\n",
       "      <td>Massachusetts Institute of Technology</td>\n",
       "      <td>United States of America</td>\n",
       "      <td>97.8</td>\n",
       "      <td>82.3</td>\n",
       "      <td>91.4</td>\n",
       "      <td>99.9</td>\n",
       "      <td>87.5</td>\n",
       "      <td>95.6</td>\n",
       "      <td>11074.0</td>\n",
       "      <td>9.0</td>\n",
       "      <td>33%</td>\n",
       "      <td>37 : 63</td>\n",
       "      <td>2011</td>\n",
       "    </tr>\n",
       "    <tr>\n",
       "      <th>3</th>\n",
       "      <td>4</td>\n",
       "      <td>Stanford University</td>\n",
       "      <td>United States of America</td>\n",
       "      <td>98.3</td>\n",
       "      <td>29.5</td>\n",
       "      <td>98.1</td>\n",
       "      <td>99.2</td>\n",
       "      <td>64.3</td>\n",
       "      <td>94.3</td>\n",
       "      <td>15596.0</td>\n",
       "      <td>7.8</td>\n",
       "      <td>22%</td>\n",
       "      <td>42 : 58</td>\n",
       "      <td>2011</td>\n",
       "    </tr>\n",
       "    <tr>\n",
       "      <th>4</th>\n",
       "      <td>5</td>\n",
       "      <td>Princeton University</td>\n",
       "      <td>United States of America</td>\n",
       "      <td>90.9</td>\n",
       "      <td>70.3</td>\n",
       "      <td>95.4</td>\n",
       "      <td>99.9</td>\n",
       "      <td>-</td>\n",
       "      <td>94.2</td>\n",
       "      <td>7929.0</td>\n",
       "      <td>8.4</td>\n",
       "      <td>27%</td>\n",
       "      <td>45 : 55</td>\n",
       "      <td>2011</td>\n",
       "    </tr>\n",
       "  </tbody>\n",
       "</table>\n",
       "</div>"
      ],
      "text/plain": [
       "  world_rank                        university_name                   country  \\\n",
       "0          1                     Harvard University  United States of America   \n",
       "1          2     California Institute of Technology  United States of America   \n",
       "2          3  Massachusetts Institute of Technology  United States of America   \n",
       "3          4                    Stanford University  United States of America   \n",
       "4          5                   Princeton University  United States of America   \n",
       "\n",
       "   teaching international  research  citations income total_score  \\\n",
       "0      99.7          72.4      98.7       98.8   34.5        96.1   \n",
       "1      97.7          54.6      98.0       99.9   83.7        96.0   \n",
       "2      97.8          82.3      91.4       99.9   87.5        95.6   \n",
       "3      98.3          29.5      98.1       99.2   64.3        94.3   \n",
       "4      90.9          70.3      95.4       99.9      -        94.2   \n",
       "\n",
       "   num_students  student_staff_ratio international_students female_male_ratio  \\\n",
       "0       20152.0                  8.9                    25%               NaN   \n",
       "1        2243.0                  6.9                    27%           33 : 67   \n",
       "2       11074.0                  9.0                    33%           37 : 63   \n",
       "3       15596.0                  7.8                    22%           42 : 58   \n",
       "4        7929.0                  8.4                    27%           45 : 55   \n",
       "\n",
       "   year  \n",
       "0  2011  \n",
       "1  2011  \n",
       "2  2011  \n",
       "3  2011  \n",
       "4  2011  "
      ]
     },
     "execution_count": 250,
     "metadata": {},
     "output_type": "execute_result"
    }
   ],
   "source": [
    "df.head(5)"
   ]
  },
  {
   "cell_type": "markdown",
   "metadata": {},
   "source": [
    "Размер датафрейма"
   ]
  },
  {
   "cell_type": "code",
   "execution_count": 170,
   "metadata": {},
   "outputs": [
    {
     "data": {
      "text/plain": [
       "(2603, 14)"
      ]
     },
     "execution_count": 170,
     "metadata": {},
     "output_type": "execute_result"
    }
   ],
   "source": [
    "df.shape"
   ]
  },
  {
   "cell_type": "markdown",
   "metadata": {},
   "source": [
    "Названия переменных, количество ненулевых значений, тип данных"
   ]
  },
  {
   "cell_type": "code",
   "execution_count": 251,
   "metadata": {
    "scrolled": true
   },
   "outputs": [
    {
     "name": "stdout",
     "output_type": "stream",
     "text": [
      "<class 'pandas.core.frame.DataFrame'>\n",
      "RangeIndex: 2603 entries, 0 to 2602\n",
      "Data columns (total 14 columns):\n",
      " #   Column                  Non-Null Count  Dtype  \n",
      "---  ------                  --------------  -----  \n",
      " 0   world_rank              2603 non-null   object \n",
      " 1   university_name         2603 non-null   object \n",
      " 2   country                 2603 non-null   object \n",
      " 3   teaching                2603 non-null   float64\n",
      " 4   international           2603 non-null   object \n",
      " 5   research                2603 non-null   float64\n",
      " 6   citations               2603 non-null   float64\n",
      " 7   income                  2603 non-null   object \n",
      " 8   total_score             2603 non-null   object \n",
      " 9   num_students            2544 non-null   float64\n",
      " 10  student_staff_ratio     2544 non-null   float64\n",
      " 11  international_students  2536 non-null   object \n",
      " 12  female_male_ratio       2370 non-null   object \n",
      " 13  year                    2603 non-null   int64  \n",
      "dtypes: float64(5), int64(1), object(8)\n",
      "memory usage: 203.4+ KB\n"
     ]
    }
   ],
   "source": [
    "df.info()"
   ]
  },
  {
   "cell_type": "markdown",
   "metadata": {},
   "source": [
    "С помощью value_counts() было замечено, что в некоторых столбцах отсутствующие данные были заменены прочерком."
   ]
  },
  {
   "cell_type": "code",
   "execution_count": 172,
   "metadata": {},
   "outputs": [
    {
     "data": {
      "text/plain": [
       "-        218\n",
       "100.0     68\n",
       "28.0      26\n",
       "31.1      20\n",
       "28.8      19\n",
       "        ... \n",
       "52.2       1\n",
       "66.5       1\n",
       "46.9       1\n",
       "72.7       1\n",
       "60.9       1\n",
       "Name: income, Length: 613, dtype: int64"
      ]
     },
     "execution_count": 172,
     "metadata": {},
     "output_type": "execute_result"
    }
   ],
   "source": [
    "df['income'].value_counts()"
   ]
  },
  {
   "cell_type": "code",
   "execution_count": 173,
   "metadata": {},
   "outputs": [
    {
     "data": {
      "text/plain": [
       "-       1402\n",
       "49.0      13\n",
       "51.1      12\n",
       "46.6      11\n",
       "50.1      10\n",
       "        ... \n",
       "65.5       1\n",
       "72.6       1\n",
       "68.9       1\n",
       "42.4       1\n",
       "87.0       1\n",
       "Name: total_score, Length: 415, dtype: int64"
      ]
     },
     "execution_count": 173,
     "metadata": {},
     "output_type": "execute_result"
    }
   ],
   "source": [
    "df['total_score'].value_counts()"
   ]
  },
  {
   "cell_type": "markdown",
   "metadata": {},
   "source": [
    "## Преобразования датасета"
   ]
  },
  {
   "cell_type": "markdown",
   "metadata": {},
   "source": [
    "Для того чтобы нам было удобно работать с данными постараемся по-максимуму преобразовать столбцы-object в столбцы-float"
   ]
  },
  {
   "cell_type": "code",
   "execution_count": 253,
   "metadata": {},
   "outputs": [],
   "source": [
    "def rank_to_int(s):\n",
    "    s = str(s) # на случай если мы запустим код еще раз, чтобы не выдало ошибку\n",
    "    if '-' in s:\n",
    "        new = s.split('-')\n",
    "        return new[1]\n",
    "    if '=' in s:\n",
    "        return s[1:]\n",
    "    return s\n",
    "\n",
    "def delete_percents(s):\n",
    "    s = str(s)\n",
    "    if s == 'nan':\n",
    "        return ''\n",
    "    if '%' in s:\n",
    "        return s[:len(s) - 1]\n",
    "    return s\n",
    "\n",
    "def ratio_to_percents(s):\n",
    "    s = str(s)\n",
    "    if ':' in s:\n",
    "        new = s.split(' : ')\n",
    "        if int(new[1]) == 0: \n",
    "            return -1\n",
    "        if int(new[0]) == 0: \n",
    "            return -1\n",
    "        return 100 * int(new[0])/int(new[1]) \n",
    "    return s\n",
    "\n",
    "# преобразовали object в int-ы: промежутки оформили как наибольшее из значений, а равные значения указали без знаков равно\n",
    "df['world_rank'] = df['world_rank'].apply(rank_to_int)\n",
    "df['world_rank'] =  pd.to_numeric(df['world_rank'], errors='coerce')\n",
    "\n",
    "df['international'] = pd.to_numeric(df['international'], errors='coerce')\n",
    "\n",
    "df['income'] = pd.to_numeric(df['income'], errors='coerce')\n",
    "\n",
    "df['total_score'] = pd.to_numeric(df['total_score'], errors='coerce')\n",
    "\n",
    "df['num_students'] = pd.to_numeric(df['num_students'], errors='coerce')\n",
    "\n",
    "df['international_students'] = df['international_students'].apply(delete_percents)\n",
    "df['international_students'] =  pd.to_numeric(df['international_students'], errors='coerce')\n",
    "\n",
    "df['female_male_ratio'] = df['female_male_ratio'].apply(ratio_to_percents)\n",
    "df['female_male_ratio'] = pd.to_numeric(df['female_male_ratio'], errors='coerce')\n",
    "df = df[df.female_male_ratio != -1]"
   ]
  },
  {
   "cell_type": "code",
   "execution_count": 175,
   "metadata": {},
   "outputs": [
    {
     "name": "stdout",
     "output_type": "stream",
     "text": [
      "<class 'pandas.core.frame.DataFrame'>\n",
      "Int64Index: 2601 entries, 0 to 2602\n",
      "Data columns (total 14 columns):\n",
      " #   Column                  Non-Null Count  Dtype  \n",
      "---  ------                  --------------  -----  \n",
      " 0   world_rank              2601 non-null   int64  \n",
      " 1   university_name         2601 non-null   object \n",
      " 2   country                 2601 non-null   object \n",
      " 3   teaching                2601 non-null   float64\n",
      " 4   international           2592 non-null   float64\n",
      " 5   research                2601 non-null   float64\n",
      " 6   citations               2601 non-null   float64\n",
      " 7   income                  2383 non-null   float64\n",
      " 8   total_score             1201 non-null   float64\n",
      " 9   num_students            2542 non-null   float64\n",
      " 10  student_staff_ratio     2542 non-null   float64\n",
      " 11  international_students  2534 non-null   float64\n",
      " 12  female_male_ratio       2365 non-null   float64\n",
      " 13  year                    2601 non-null   int64  \n",
      "dtypes: float64(10), int64(2), object(2)\n",
      "memory usage: 284.5+ KB\n"
     ]
    }
   ],
   "source": [
    "df.info()"
   ]
  },
  {
   "cell_type": "markdown",
   "metadata": {},
   "source": [
    "Наш датасет содержит данные за несколько лет, поэтому для точности исследования выберем только один год."
   ]
  },
  {
   "cell_type": "code",
   "execution_count": 176,
   "metadata": {},
   "outputs": [],
   "source": [
    "df = df[df['year'] == 2016]"
   ]
  },
  {
   "cell_type": "markdown",
   "metadata": {},
   "source": [
    "Создадим новую категориальную переменную, разбив интервальную переменную <b>world_rank</b> на группы <b>top</b>, <b>average</b> and <b>worst</b>\n"
   ]
  },
  {
   "cell_type": "markdown",
   "metadata": {},
   "source": [
    "Мы выясним ключевые отличия между университетами, в зависимости от их расположения в рейтинге. Лучшими мы считаем университеты, которые имеют номер в мире до 0.2 * максимальный-номер; средними - от 0.2 * максимальный-номер до 0.8 * максимальный-номер; худшими - от 0.8 * максимальный-номер "
   ]
  },
  {
   "cell_type": "code",
   "execution_count": 189,
   "metadata": {},
   "outputs": [
    {
     "data": {
      "text/plain": [
       "Text(0.5, 1.0, 'Распределение категорий')"
      ]
     },
     "execution_count": 189,
     "metadata": {},
     "output_type": "execute_result"
    },
    {
     "data": {
      "image/png": "[encoded data removed]",
      "text/plain": [
       "<Figure size 432x288 with 1 Axes>"
      ]
     },
     "metadata": {},
     "output_type": "display_data"
    }
   ],
   "source": [
    "import matplotlib.pyplot as plt\n",
    "fig, ax = plt.subplots()\n",
    "df['university_rank'] = df['world_rank']\n",
    "df['university_rank'] = df['university_rank'].apply(lambda x: 'top' if x <= df['world_rank'].max() * 0.2 else 'worst' if x >= df['world_rank'].max() * 0.8 else 'average')\n",
    "df['university_rank'].value_counts().plot(kind=\"pie\")\n",
    "ax.legend(['average', 'worst', 'top'])\n",
    "plt.title('Распределение категорий')"
   ]
  },
  {
   "cell_type": "markdown",
   "metadata": {},
   "source": [
    "График демонстрирует как распределились университеты между категориями"
   ]
  },
  {
   "cell_type": "markdown",
   "metadata": {},
   "source": [
    "## Исследование"
   ]
  },
  {
   "cell_type": "markdown",
   "metadata": {},
   "source": [
    "Задачи: \n",
    "1. Выявить схожести и различия между университетами, расположенными в разных частях рейтинга.\n",
    "2. Выявить связь рейтинга с локацией университетов."
   ]
  },
  {
   "cell_type": "markdown",
   "metadata": {},
   "source": [
    "Гипотезы, которые мы проверим:  \n",
    "1. В топовых университетах в среднем меньше студентов, чем в остальных.\n",
    "2. Самый большой доход у топовых университетов.\n",
    "3. Соотношение количества женщин и мужчин не связано с категорией университета.\n",
    "4. Больше всего крутых университетов в Англии или Америке, то есть, у них наибольший total score.\n",
    "5. Наибольшее число интернациональных студентов в Германии (по причине бесплатного образования)."
   ]
  },
  {
   "cell_type": "markdown",
   "metadata": {},
   "source": [
    "### Гипотеза 1"
   ]
  },
  {
   "cell_type": "markdown",
   "metadata": {},
   "source": [
    "В топовых университетах в среднем меньше студентов, чем в остальных."
   ]
  },
  {
   "cell_type": "code",
   "execution_count": 54,
   "metadata": {},
   "outputs": [
    {
     "data": {
      "text/plain": [
       "Text(0, 0.5, 'Число университетов')"
      ]
     },
     "execution_count": 54,
     "metadata": {},
     "output_type": "execute_result"
    },
    {
     "data": {
      "image/png": "[encoded data removed]",
      "text/plain": [
       "<Figure size 432x288 with 1 Axes>"
      ]
     },
     "metadata": {
      "needs_background": "light"
     },
     "output_type": "display_data"
    }
   ],
   "source": [
    "df.num_students.hist(bins=50)\n",
    "plt.legend(['Университеты'])\n",
    "plt.title('Распределение университетов по количеству студентов')\n",
    "plt.xlabel('Число студентов')\n",
    "plt.ylabel('Число университетов')"
   ]
  },
  {
   "cell_type": "markdown",
   "metadata": {},
   "source": [
    "В основном до 30 000 студентов"
   ]
  },
  {
   "cell_type": "code",
   "execution_count": 63,
   "metadata": {},
   "outputs": [
    {
     "data": {
      "text/plain": [
       "Text(0, 0.5, 'Число университетов')"
      ]
     },
     "execution_count": 63,
     "metadata": {},
     "output_type": "execute_result"
    },
    {
     "data": {
      "image/png": "[encoded data removed]",
      "text/plain": [
       "<Figure size 432x288 with 1 Axes>"
      ]
     },
     "metadata": {
      "needs_background": "light"
     },
     "output_type": "display_data"
    }
   ],
   "source": [
    "df[df.university_rank==\"top\"].num_students.hist(bins=30)\n",
    "plt.y_lim = 10\n",
    "plt.x_lim = 10\n",
    "plt.legend(['Университеты'])\n",
    "plt.title('Распределение топовых университетов по количеству студентов')\n",
    "plt.xlabel('Число студентов')\n",
    "plt.ylabel('Число университетов')"
   ]
  },
  {
   "cell_type": "markdown",
   "metadata": {},
   "source": [
    "В основном до 50 000 студентов."
   ]
  },
  {
   "cell_type": "code",
   "execution_count": 64,
   "metadata": {},
   "outputs": [
    {
     "data": {
      "text/plain": [
       "Text(0, 0.5, 'Число университетов')"
      ]
     },
     "execution_count": 64,
     "metadata": {},
     "output_type": "execute_result"
    },
    {
     "data": {
      "image/png": "[encoded data removed]",
      "text/plain": [
       "<Figure size 432x288 with 1 Axes>"
      ]
     },
     "metadata": {
      "needs_background": "light"
     },
     "output_type": "display_data"
    }
   ],
   "source": [
    "df[df.university_rank==\"average\"].num_students.hist(bins=30)\n",
    "plt.y_lim = 10\n",
    "plt.x_lim = 10\n",
    "plt.legend(['Университеты'])\n",
    "plt.title('Распределение средних университетов по количеству студентов')\n",
    "plt.xlabel('Число студентов')\n",
    "plt.ylabel('Число университетов')"
   ]
  },
  {
   "cell_type": "markdown",
   "metadata": {},
   "source": [
    "В основном до 40 000 студентов."
   ]
  },
  {
   "cell_type": "code",
   "execution_count": 66,
   "metadata": {},
   "outputs": [
    {
     "data": {
      "text/plain": [
       "Text(0, 0.5, 'Число университетов')"
      ]
     },
     "execution_count": 66,
     "metadata": {},
     "output_type": "execute_result"
    },
    {
     "data": {
      "image/png": "[encoded data removed]",
      "text/plain": [
       "<Figure size 432x288 with 1 Axes>"
      ]
     },
     "metadata": {
      "needs_background": "light"
     },
     "output_type": "display_data"
    }
   ],
   "source": [
    "df[df.university_rank==\"worst\"].num_students.hist(bins=30)\n",
    "plt.y_lim = 10\n",
    "plt.x_lim = 10\n",
    "plt.legend(['Университеты'])\n",
    "plt.title('Распределение худших университетов по количеству студентов')\n",
    "plt.xlabel('Число студентов')\n",
    "plt.ylabel('Число университетов')"
   ]
  },
  {
   "cell_type": "markdown",
   "metadata": {},
   "source": [
    "В основном до 50000 студентов."
   ]
  },
  {
   "cell_type": "markdown",
   "metadata": {},
   "source": [
    "На вид сильных различий в числе студентов не обнаружено."
   ]
  },
  {
   "cell_type": "code",
   "execution_count": 57,
   "metadata": {},
   "outputs": [
    {
     "data": {
      "text/plain": [
       "university_rank\n",
       "average    22371.616972\n",
       "top        24649.810127\n",
       "worst      27694.412060\n",
       "Name: num_students, dtype: float64"
      ]
     },
     "execution_count": 57,
     "metadata": {},
     "output_type": "execute_result"
    }
   ],
   "source": [
    "df.groupby('university_rank')['num_students'].mean()"
   ]
  },
  {
   "cell_type": "markdown",
   "metadata": {},
   "source": [
    "Гипотеза не подтверждена, в ходе исследования было выявлено отсутствие связи между местом университета в рейтинге и числом студентов."
   ]
  },
  {
   "cell_type": "markdown",
   "metadata": {},
   "source": [
    "### Гипотеза 2"
   ]
  },
  {
   "cell_type": "markdown",
   "metadata": {},
   "source": [
    "Самый большой доход у топовых университетов."
   ]
  },
  {
   "cell_type": "markdown",
   "metadata": {},
   "source": [
    "Создаем срез датафрейма по столбцам <b>world_rank</b>, <b>university_rank</b>, <b>university_name</b>, <b>income</b>"
   ]
  },
  {
   "cell_type": "markdown",
   "metadata": {},
   "source": [
    "Сортируем по убыванию <b>income</b> и <b>world_rank</b> по возрастанию"
   ]
  },
  {
   "cell_type": "code",
   "execution_count": 70,
   "metadata": {},
   "outputs": [
    {
     "data": {
      "text/html": [
       "<div>\n",
       "<style scoped>\n",
       "    .dataframe tbody tr th:only-of-type {\n",
       "        vertical-align: middle;\n",
       "    }\n",
       "\n",
       "    .dataframe tbody tr th {\n",
       "        vertical-align: top;\n",
       "    }\n",
       "\n",
       "    .dataframe thead th {\n",
       "        text-align: right;\n",
       "    }\n",
       "</style>\n",
       "<table border=\"1\" class=\"dataframe\">\n",
       "  <thead>\n",
       "    <tr style=\"text-align: right;\">\n",
       "      <th></th>\n",
       "      <th>world_rank</th>\n",
       "      <th>university_rank</th>\n",
       "      <th>university_name</th>\n",
       "      <th>income</th>\n",
       "    </tr>\n",
       "  </thead>\n",
       "  <tbody>\n",
       "    <tr>\n",
       "      <th>1813</th>\n",
       "      <td>11</td>\n",
       "      <td>top</td>\n",
       "      <td>Johns Hopkins University</td>\n",
       "      <td>100.0</td>\n",
       "    </tr>\n",
       "    <tr>\n",
       "      <th>1822</th>\n",
       "      <td>20</td>\n",
       "      <td>top</td>\n",
       "      <td>Duke University</td>\n",
       "      <td>100.0</td>\n",
       "    </tr>\n",
       "    <tr>\n",
       "      <th>1831</th>\n",
       "      <td>29</td>\n",
       "      <td>top</td>\n",
       "      <td>LMU Munich</td>\n",
       "      <td>100.0</td>\n",
       "    </tr>\n",
       "    <tr>\n",
       "      <th>1837</th>\n",
       "      <td>35</td>\n",
       "      <td>top</td>\n",
       "      <td>KU Leuven</td>\n",
       "      <td>100.0</td>\n",
       "    </tr>\n",
       "    <tr>\n",
       "      <th>1844</th>\n",
       "      <td>42</td>\n",
       "      <td>top</td>\n",
       "      <td>Peking University</td>\n",
       "      <td>100.0</td>\n",
       "    </tr>\n",
       "    <tr>\n",
       "      <th>1849</th>\n",
       "      <td>47</td>\n",
       "      <td>top</td>\n",
       "      <td>Tsinghua University</td>\n",
       "      <td>100.0</td>\n",
       "    </tr>\n",
       "    <tr>\n",
       "      <th>1850</th>\n",
       "      <td>47</td>\n",
       "      <td>top</td>\n",
       "      <td>Wageningen University and Research Center</td>\n",
       "      <td>100.0</td>\n",
       "    </tr>\n",
       "    <tr>\n",
       "      <th>1867</th>\n",
       "      <td>65</td>\n",
       "      <td>top</td>\n",
       "      <td>Delft University of Technology</td>\n",
       "      <td>100.0</td>\n",
       "    </tr>\n",
       "    <tr>\n",
       "      <th>1886</th>\n",
       "      <td>84</td>\n",
       "      <td>top</td>\n",
       "      <td>University of Freiburg</td>\n",
       "      <td>100.0</td>\n",
       "    </tr>\n",
       "    <tr>\n",
       "      <th>1919</th>\n",
       "      <td>116</td>\n",
       "      <td>top</td>\n",
       "      <td>Pohang University of Science and Technology</td>\n",
       "      <td>100.0</td>\n",
       "    </tr>\n",
       "    <tr>\n",
       "      <th>1951</th>\n",
       "      <td>148</td>\n",
       "      <td>top</td>\n",
       "      <td>Korea Advanced Institute of Science and Techno...</td>\n",
       "      <td>100.0</td>\n",
       "    </tr>\n",
       "    <tr>\n",
       "      <th>2141</th>\n",
       "      <td>350</td>\n",
       "      <td>average</td>\n",
       "      <td>Stellenbosch University</td>\n",
       "      <td>100.0</td>\n",
       "    </tr>\n",
       "    <tr>\n",
       "      <th>2260</th>\n",
       "      <td>500</td>\n",
       "      <td>average</td>\n",
       "      <td>National Cheng Kung University</td>\n",
       "      <td>100.0</td>\n",
       "    </tr>\n",
       "    <tr>\n",
       "      <th>2375</th>\n",
       "      <td>600</td>\n",
       "      <td>average</td>\n",
       "      <td>Pontifical Catholic University of Rio de Janei...</td>\n",
       "      <td>100.0</td>\n",
       "    </tr>\n",
       "    <tr>\n",
       "      <th>2393</th>\n",
       "      <td>600</td>\n",
       "      <td>average</td>\n",
       "      <td>Tianjin University</td>\n",
       "      <td>100.0</td>\n",
       "    </tr>\n",
       "    <tr>\n",
       "      <th>2413</th>\n",
       "      <td>800</td>\n",
       "      <td>worst</td>\n",
       "      <td>Anadolu University</td>\n",
       "      <td>100.0</td>\n",
       "    </tr>\n",
       "    <tr>\n",
       "      <th>2443</th>\n",
       "      <td>800</td>\n",
       "      <td>worst</td>\n",
       "      <td>China University of Petroleum (Beijing)</td>\n",
       "      <td>100.0</td>\n",
       "    </tr>\n",
       "    <tr>\n",
       "      <th>2485</th>\n",
       "      <td>800</td>\n",
       "      <td>worst</td>\n",
       "      <td>Istanbul University</td>\n",
       "      <td>100.0</td>\n",
       "    </tr>\n",
       "    <tr>\n",
       "      <th>1857</th>\n",
       "      <td>55</td>\n",
       "      <td>top</td>\n",
       "      <td>Nanyang Technological University</td>\n",
       "      <td>99.9</td>\n",
       "    </tr>\n",
       "    <tr>\n",
       "      <th>1903</th>\n",
       "      <td>101</td>\n",
       "      <td>top</td>\n",
       "      <td>University of Basel</td>\n",
       "      <td>99.9</td>\n",
       "    </tr>\n",
       "  </tbody>\n",
       "</table>\n",
       "</div>"
      ],
      "text/plain": [
       "      world_rank university_rank  \\\n",
       "1813          11             top   \n",
       "1822          20             top   \n",
       "1831          29             top   \n",
       "1837          35             top   \n",
       "1844          42             top   \n",
       "1849          47             top   \n",
       "1850          47             top   \n",
       "1867          65             top   \n",
       "1886          84             top   \n",
       "1919         116             top   \n",
       "1951         148             top   \n",
       "2141         350         average   \n",
       "2260         500         average   \n",
       "2375         600         average   \n",
       "2393         600         average   \n",
       "2413         800           worst   \n",
       "2443         800           worst   \n",
       "2485         800           worst   \n",
       "1857          55             top   \n",
       "1903         101             top   \n",
       "\n",
       "                                        university_name  income  \n",
       "1813                           Johns Hopkins University   100.0  \n",
       "1822                                    Duke University   100.0  \n",
       "1831                                         LMU Munich   100.0  \n",
       "1837                                          KU Leuven   100.0  \n",
       "1844                                  Peking University   100.0  \n",
       "1849                                Tsinghua University   100.0  \n",
       "1850          Wageningen University and Research Center   100.0  \n",
       "1867                     Delft University of Technology   100.0  \n",
       "1886                             University of Freiburg   100.0  \n",
       "1919        Pohang University of Science and Technology   100.0  \n",
       "1951  Korea Advanced Institute of Science and Techno...   100.0  \n",
       "2141                            Stellenbosch University   100.0  \n",
       "2260                     National Cheng Kung University   100.0  \n",
       "2375  Pontifical Catholic University of Rio de Janei...   100.0  \n",
       "2393                                 Tianjin University   100.0  \n",
       "2413                                 Anadolu University   100.0  \n",
       "2443            China University of Petroleum (Beijing)   100.0  \n",
       "2485                                Istanbul University   100.0  \n",
       "1857                   Nanyang Technological University    99.9  \n",
       "1903                                University of Basel    99.9  "
      ]
     },
     "execution_count": 70,
     "metadata": {},
     "output_type": "execute_result"
    }
   ],
   "source": [
    "new_df = df[['world_rank', 'university_rank', 'university_name', 'income']]\n",
    "new_df = new_df.sort_values(by=['income','world_rank'], ascending=[False, True])\n",
    "new_df = new_df.dropna()\n",
    "new_df.head(20)"
   ]
  },
  {
   "cell_type": "code",
   "execution_count": 71,
   "metadata": {},
   "outputs": [
    {
     "data": {
      "text/html": [
       "<div>\n",
       "<style scoped>\n",
       "    .dataframe tbody tr th:only-of-type {\n",
       "        vertical-align: middle;\n",
       "    }\n",
       "\n",
       "    .dataframe tbody tr th {\n",
       "        vertical-align: top;\n",
       "    }\n",
       "\n",
       "    .dataframe thead th {\n",
       "        text-align: right;\n",
       "    }\n",
       "</style>\n",
       "<table border=\"1\" class=\"dataframe\">\n",
       "  <thead>\n",
       "    <tr style=\"text-align: right;\">\n",
       "      <th></th>\n",
       "      <th>1813</th>\n",
       "      <th>1822</th>\n",
       "      <th>1831</th>\n",
       "      <th>1837</th>\n",
       "      <th>1844</th>\n",
       "      <th>1849</th>\n",
       "      <th>1850</th>\n",
       "      <th>1867</th>\n",
       "      <th>1886</th>\n",
       "      <th>1919</th>\n",
       "      <th>...</th>\n",
       "      <th>2451</th>\n",
       "      <th>2459</th>\n",
       "      <th>2479</th>\n",
       "      <th>2486</th>\n",
       "      <th>2509</th>\n",
       "      <th>2512</th>\n",
       "      <th>2523</th>\n",
       "      <th>2531</th>\n",
       "      <th>2536</th>\n",
       "      <th>2571</th>\n",
       "    </tr>\n",
       "  </thead>\n",
       "  <tbody>\n",
       "    <tr>\n",
       "      <th>world_rank</th>\n",
       "      <td>11</td>\n",
       "      <td>20</td>\n",
       "      <td>29</td>\n",
       "      <td>35</td>\n",
       "      <td>42</td>\n",
       "      <td>47</td>\n",
       "      <td>47</td>\n",
       "      <td>65</td>\n",
       "      <td>84</td>\n",
       "      <td>116</td>\n",
       "      <td>...</td>\n",
       "      <td>800</td>\n",
       "      <td>800</td>\n",
       "      <td>800</td>\n",
       "      <td>800</td>\n",
       "      <td>800</td>\n",
       "      <td>800</td>\n",
       "      <td>800</td>\n",
       "      <td>800</td>\n",
       "      <td>800</td>\n",
       "      <td>800</td>\n",
       "    </tr>\n",
       "    <tr>\n",
       "      <th>university_rank</th>\n",
       "      <td>top</td>\n",
       "      <td>top</td>\n",
       "      <td>top</td>\n",
       "      <td>top</td>\n",
       "      <td>top</td>\n",
       "      <td>top</td>\n",
       "      <td>top</td>\n",
       "      <td>top</td>\n",
       "      <td>top</td>\n",
       "      <td>top</td>\n",
       "      <td>...</td>\n",
       "      <td>worst</td>\n",
       "      <td>worst</td>\n",
       "      <td>worst</td>\n",
       "      <td>worst</td>\n",
       "      <td>worst</td>\n",
       "      <td>worst</td>\n",
       "      <td>worst</td>\n",
       "      <td>worst</td>\n",
       "      <td>worst</td>\n",
       "      <td>worst</td>\n",
       "    </tr>\n",
       "    <tr>\n",
       "      <th>university_name</th>\n",
       "      <td>Johns Hopkins University</td>\n",
       "      <td>Duke University</td>\n",
       "      <td>LMU Munich</td>\n",
       "      <td>KU Leuven</td>\n",
       "      <td>Peking University</td>\n",
       "      <td>Tsinghua University</td>\n",
       "      <td>Wageningen University and Research Center</td>\n",
       "      <td>Delft University of Technology</td>\n",
       "      <td>University of Freiburg</td>\n",
       "      <td>Pohang University of Science and Technology</td>\n",
       "      <td>...</td>\n",
       "      <td>Comenius University in Bratislava</td>\n",
       "      <td>University of Electronic Science and Technolog...</td>\n",
       "      <td>University of Huddersfield</td>\n",
       "      <td>Jagiellonian University</td>\n",
       "      <td>Moscow Institute of Physics and Technology</td>\n",
       "      <td>University of Nairobi</td>\n",
       "      <td>Northwestern Polytechnical University</td>\n",
       "      <td>University of Paris North – Paris 13</td>\n",
       "      <td>Pontifical Catholic University of Paraná</td>\n",
       "      <td>Taras Shevchenko National University of Kyiv</td>\n",
       "    </tr>\n",
       "    <tr>\n",
       "      <th>income</th>\n",
       "      <td>100</td>\n",
       "      <td>100</td>\n",
       "      <td>100</td>\n",
       "      <td>100</td>\n",
       "      <td>100</td>\n",
       "      <td>100</td>\n",
       "      <td>100</td>\n",
       "      <td>100</td>\n",
       "      <td>100</td>\n",
       "      <td>100</td>\n",
       "      <td>...</td>\n",
       "      <td>28</td>\n",
       "      <td>28</td>\n",
       "      <td>28</td>\n",
       "      <td>28</td>\n",
       "      <td>28</td>\n",
       "      <td>28</td>\n",
       "      <td>28</td>\n",
       "      <td>28</td>\n",
       "      <td>28</td>\n",
       "      <td>28</td>\n",
       "    </tr>\n",
       "  </tbody>\n",
       "</table>\n",
       "<p>4 rows × 763 columns</p>\n",
       "</div>"
      ],
      "text/plain": [
       "                                     1813             1822        1831  \\\n",
       "world_rank                             11               20          29   \n",
       "university_rank                       top              top         top   \n",
       "university_name  Johns Hopkins University  Duke University  LMU Munich   \n",
       "income                                100              100         100   \n",
       "\n",
       "                      1837               1844                 1849  \\\n",
       "world_rank              35                 42                   47   \n",
       "university_rank        top                top                  top   \n",
       "university_name  KU Leuven  Peking University  Tsinghua University   \n",
       "income                 100                100                  100   \n",
       "\n",
       "                                                      1850  \\\n",
       "world_rank                                              47   \n",
       "university_rank                                        top   \n",
       "university_name  Wageningen University and Research Center   \n",
       "income                                                 100   \n",
       "\n",
       "                                           1867                    1886  \\\n",
       "world_rank                                   65                      84   \n",
       "university_rank                             top                     top   \n",
       "university_name  Delft University of Technology  University of Freiburg   \n",
       "income                                      100                     100   \n",
       "\n",
       "                                                        1919  ...  \\\n",
       "world_rank                                               116  ...   \n",
       "university_rank                                          top  ...   \n",
       "university_name  Pohang University of Science and Technology  ...   \n",
       "income                                                   100  ...   \n",
       "\n",
       "                                              2451  \\\n",
       "world_rank                                     800   \n",
       "university_rank                              worst   \n",
       "university_name  Comenius University in Bratislava   \n",
       "income                                          28   \n",
       "\n",
       "                                                              2459  \\\n",
       "world_rank                                                     800   \n",
       "university_rank                                              worst   \n",
       "university_name  University of Electronic Science and Technolog...   \n",
       "income                                                          28   \n",
       "\n",
       "                                       2479                     2486  \\\n",
       "world_rank                              800                      800   \n",
       "university_rank                       worst                    worst   \n",
       "university_name  University of Huddersfield  Jagiellonian University   \n",
       "income                                   28                       28   \n",
       "\n",
       "                                                       2509  \\\n",
       "world_rank                                              800   \n",
       "university_rank                                       worst   \n",
       "university_name  Moscow Institute of Physics and Technology   \n",
       "income                                                   28   \n",
       "\n",
       "                                  2512                                   2523  \\\n",
       "world_rank                         800                                    800   \n",
       "university_rank                  worst                                  worst   \n",
       "university_name  University of Nairobi  Northwestern Polytechnical University   \n",
       "income                              28                                     28   \n",
       "\n",
       "                                                 2531  \\\n",
       "world_rank                                        800   \n",
       "university_rank                                 worst   \n",
       "university_name  University of Paris North – Paris 13   \n",
       "income                                             28   \n",
       "\n",
       "                                                     2536  \\\n",
       "world_rank                                            800   \n",
       "university_rank                                     worst   \n",
       "university_name  Pontifical Catholic University of Paraná   \n",
       "income                                                 28   \n",
       "\n",
       "                                                         2571  \n",
       "world_rank                                                800  \n",
       "university_rank                                         worst  \n",
       "university_name  Taras Shevchenko National University of Kyiv  \n",
       "income                                                     28  \n",
       "\n",
       "[4 rows x 763 columns]"
      ]
     },
     "execution_count": 71,
     "metadata": {},
     "output_type": "execute_result"
    }
   ],
   "source": [
    "new_df.T"
   ]
  },
  {
   "cell_type": "markdown",
   "metadata": {},
   "source": [
    "Транспонировали и видим, что, кажется, наша гипотеза подтверждается: у наиболее доходных вузов категория <b>top</b>, а у наименее - <b>worst</b>"
   ]
  },
  {
   "cell_type": "code",
   "execution_count": 97,
   "metadata": {},
   "outputs": [
    {
     "name": "stdout",
     "output_type": "stream",
     "text": [
      "Средний income: 46.86959370904325\n"
     ]
    }
   ],
   "source": [
    "print(\"Средний income: \" + str(new_df['income'].mean()))"
   ]
  },
  {
   "cell_type": "code",
   "execution_count": 100,
   "metadata": {
    "scrolled": true
   },
   "outputs": [
    {
     "data": {
      "text/plain": [
       "Text(0.5, 1, 'Распределение дохода')"
      ]
     },
     "execution_count": 100,
     "metadata": {},
     "output_type": "execute_result"
    },
    {
     "data": {
      "image/png": "[encoded data removed]",
      "text/plain": [
       "<Figure size 360x360 with 1 Axes>"
      ]
     },
     "metadata": {
      "needs_background": "light"
     },
     "output_type": "display_data"
    }
   ],
   "source": [
    "import seaborn as sns  \n",
    "sns.displot(new_df['income'].dropna(), kde=True)\n",
    "plt.legend(['Число университетов на income'])\n",
    "plt.title('Распределение дохода')"
   ]
  },
  {
   "cell_type": "markdown",
   "metadata": {},
   "source": [
    "Логично, что если наша гипотеза верна, то место университета в мире обратно пропорционально доходу."
   ]
  },
  {
   "cell_type": "code",
   "execution_count": 86,
   "metadata": {
    "scrolled": true
   },
   "outputs": [
    {
     "data": {
      "text/plain": [
       "-0.31090488597834615"
      ]
     },
     "execution_count": 86,
     "metadata": {},
     "output_type": "execute_result"
    }
   ],
   "source": [
    "new_df['world_rank'].corr(new_df['income'])"
   ]
  },
  {
   "cell_type": "markdown",
   "metadata": {},
   "source": [
    "Число отрицательное - это хорошо, но то, что оно 0.3 немного смущает, поэтому построим графики для каждой категории."
   ]
  },
  {
   "cell_type": "code",
   "execution_count": 101,
   "metadata": {},
   "outputs": [
    {
     "data": {
      "text/plain": [
       "Text(0, 0.5, 'Число университетов')"
      ]
     },
     "execution_count": 101,
     "metadata": {},
     "output_type": "execute_result"
    },
    {
     "data": {
      "image/png": "[encoded data removed]",
      "text/plain": [
       "<Figure size 432x288 with 1 Axes>"
      ]
     },
     "metadata": {
      "needs_background": "light"
     },
     "output_type": "display_data"
    }
   ],
   "source": [
    "new_df[new_df.university_rank==\"top\"].income.hist(bins=30)\n",
    "plt.legend(['Университеты'])\n",
    "plt.title('Распределение лучших университетов по доходу')\n",
    "plt.xlabel('Доход')\n",
    "plt.ylabel('Число университетов')"
   ]
  },
  {
   "cell_type": "code",
   "execution_count": 102,
   "metadata": {},
   "outputs": [
    {
     "data": {
      "text/plain": [
       "Text(0, 0.5, 'Число университетов')"
      ]
     },
     "execution_count": 102,
     "metadata": {},
     "output_type": "execute_result"
    },
    {
     "data": {
      "image/png": "[encoded data removed]",
      "text/plain": [
       "<Figure size 432x288 with 1 Axes>"
      ]
     },
     "metadata": {
      "needs_background": "light"
     },
     "output_type": "display_data"
    }
   ],
   "source": [
    "new_df[new_df.university_rank==\"average\"].income.hist(bins=30)\n",
    "plt.legend(['Университеты'])\n",
    "plt.title('Распределение средних университетов по доходу')\n",
    "plt.xlabel('Доход')\n",
    "plt.ylabel('Число университетов')"
   ]
  },
  {
   "cell_type": "code",
   "execution_count": 103,
   "metadata": {},
   "outputs": [
    {
     "data": {
      "text/plain": [
       "Text(0, 0.5, 'Число университетов')"
      ]
     },
     "execution_count": 103,
     "metadata": {},
     "output_type": "execute_result"
    },
    {
     "data": {
      "image/png": "[encoded data removed]",
      "text/plain": [
       "<Figure size 432x288 with 1 Axes>"
      ]
     },
     "metadata": {
      "needs_background": "light"
     },
     "output_type": "display_data"
    }
   ],
   "source": [
    "new_df[new_df.university_rank==\"worst\"].income.hist(bins=30)\n",
    "plt.legend(['Университеты'])\n",
    "plt.title('Распределение худших университетов по доходу')\n",
    "plt.xlabel('Доход')\n",
    "plt.ylabel('Число университетов')"
   ]
  },
  {
   "cell_type": "code",
   "execution_count": 106,
   "metadata": {},
   "outputs": [
    {
     "data": {
      "text/plain": [
       "Text(0, 0.5, 'Число университетов')"
      ]
     },
     "execution_count": 106,
     "metadata": {},
     "output_type": "execute_result"
    },
    {
     "data": {
      "image/png": "[encoded data removed]",
      "text/plain": [
       "<Figure size 432x288 with 1 Axes>"
      ]
     },
     "metadata": {
      "needs_background": "light"
     },
     "output_type": "display_data"
    }
   ],
   "source": [
    "df.groupby('university_rank')['income'].hist(bins=20)\n",
    "plt.legend(['Средние университеты', 'Лучшие университеты', 'Худшие университеты'])\n",
    "plt.title('Распределение университетов по доходу')\n",
    "plt.xlabel('Доход')\n",
    "plt.ylabel('Число университетов')"
   ]
  },
  {
   "cell_type": "markdown",
   "metadata": {},
   "source": [
    "Наша гипотеза оказалась верна."
   ]
  },
  {
   "cell_type": "markdown",
   "metadata": {},
   "source": [
    "### Гипотеза 3"
   ]
  },
  {
   "cell_type": "markdown",
   "metadata": {},
   "source": [
    "Соотношение женщин и мужчин не связано с категорией университета."
   ]
  },
  {
   "cell_type": "code",
   "execution_count": 112,
   "metadata": {
    "scrolled": true
   },
   "outputs": [
    {
     "data": {
      "text/plain": [
       "0.007782859939788572"
      ]
     },
     "execution_count": 112,
     "metadata": {},
     "output_type": "execute_result"
    }
   ],
   "source": [
    "df['world_rank'].corr(df['female_male_ratio'])"
   ]
  },
  {
   "cell_type": "markdown",
   "metadata": {},
   "source": [
    "Метод corr сразу нам подсказывает, что мы правы."
   ]
  },
  {
   "cell_type": "code",
   "execution_count": 238,
   "metadata": {},
   "outputs": [
    {
     "data": {
      "text/html": [
       "<div>\n",
       "<style scoped>\n",
       "    .dataframe tbody tr th:only-of-type {\n",
       "        vertical-align: middle;\n",
       "    }\n",
       "\n",
       "    .dataframe tbody tr th {\n",
       "        vertical-align: top;\n",
       "    }\n",
       "\n",
       "    .dataframe thead th {\n",
       "        text-align: right;\n",
       "    }\n",
       "</style>\n",
       "<table border=\"1\" class=\"dataframe\">\n",
       "  <thead>\n",
       "    <tr style=\"text-align: right;\">\n",
       "      <th></th>\n",
       "      <th>female_male_ratio</th>\n",
       "    </tr>\n",
       "    <tr>\n",
       "      <th>university_rank</th>\n",
       "      <th></th>\n",
       "    </tr>\n",
       "  </thead>\n",
       "  <tbody>\n",
       "    <tr>\n",
       "      <th>average</th>\n",
       "      <td>111.594178</td>\n",
       "    </tr>\n",
       "    <tr>\n",
       "      <th>top</th>\n",
       "      <td>105.903084</td>\n",
       "    </tr>\n",
       "    <tr>\n",
       "      <th>worst</th>\n",
       "      <td>102.620313</td>\n",
       "    </tr>\n",
       "  </tbody>\n",
       "</table>\n",
       "</div>"
      ],
      "text/plain": [
       "                 female_male_ratio\n",
       "university_rank                   \n",
       "average                 111.594178\n",
       "top                     105.903084\n",
       "worst                   102.620313"
      ]
     },
     "execution_count": 238,
     "metadata": {},
     "output_type": "execute_result"
    }
   ],
   "source": [
    "pd.pivot_table(df, \n",
    "               values='female_male_ratio', \n",
    "               index=['university_rank'],\n",
    "               aggfunc=np.mean)"
   ]
  },
  {
   "cell_type": "markdown",
   "metadata": {},
   "source": [
    "И рассмотрим подробнее описательную статистику."
   ]
  },
  {
   "cell_type": "code",
   "execution_count": 193,
   "metadata": {},
   "outputs": [
    {
     "data": {
      "text/html": [
       "<div>\n",
       "<style scoped>\n",
       "    .dataframe tbody tr th:only-of-type {\n",
       "        vertical-align: middle;\n",
       "    }\n",
       "\n",
       "    .dataframe tbody tr th {\n",
       "        vertical-align: top;\n",
       "    }\n",
       "\n",
       "    .dataframe thead th {\n",
       "        text-align: right;\n",
       "    }\n",
       "</style>\n",
       "<table border=\"1\" class=\"dataframe\">\n",
       "  <thead>\n",
       "    <tr style=\"text-align: right;\">\n",
       "      <th></th>\n",
       "      <th>count</th>\n",
       "      <th>mean</th>\n",
       "      <th>std</th>\n",
       "      <th>min</th>\n",
       "      <th>25%</th>\n",
       "      <th>50%</th>\n",
       "      <th>75%</th>\n",
       "      <th>max</th>\n",
       "    </tr>\n",
       "    <tr>\n",
       "      <th>university_rank</th>\n",
       "      <th></th>\n",
       "      <th></th>\n",
       "      <th></th>\n",
       "      <th></th>\n",
       "      <th></th>\n",
       "      <th></th>\n",
       "      <th></th>\n",
       "      <th></th>\n",
       "    </tr>\n",
       "  </thead>\n",
       "  <tbody>\n",
       "    <tr>\n",
       "      <th>average</th>\n",
       "      <td>409.0</td>\n",
       "      <td>111.594178</td>\n",
       "      <td>47.242806</td>\n",
       "      <td>13.636364</td>\n",
       "      <td>85.185185</td>\n",
       "      <td>112.765957</td>\n",
       "      <td>138.095238</td>\n",
       "      <td>354.545455</td>\n",
       "    </tr>\n",
       "    <tr>\n",
       "      <th>top</th>\n",
       "      <td>144.0</td>\n",
       "      <td>105.903084</td>\n",
       "      <td>34.435731</td>\n",
       "      <td>21.951220</td>\n",
       "      <td>92.307692</td>\n",
       "      <td>108.333333</td>\n",
       "      <td>123.484848</td>\n",
       "      <td>233.333333</td>\n",
       "    </tr>\n",
       "    <tr>\n",
       "      <th>worst</th>\n",
       "      <td>182.0</td>\n",
       "      <td>102.620313</td>\n",
       "      <td>54.819350</td>\n",
       "      <td>1.010101</td>\n",
       "      <td>61.951348</td>\n",
       "      <td>92.307692</td>\n",
       "      <td>127.272727</td>\n",
       "      <td>354.545455</td>\n",
       "    </tr>\n",
       "  </tbody>\n",
       "</table>\n",
       "</div>"
      ],
      "text/plain": [
       "                 count        mean        std        min        25%  \\\n",
       "university_rank                                                       \n",
       "average          409.0  111.594178  47.242806  13.636364  85.185185   \n",
       "top              144.0  105.903084  34.435731  21.951220  92.307692   \n",
       "worst            182.0  102.620313  54.819350   1.010101  61.951348   \n",
       "\n",
       "                        50%         75%         max  \n",
       "university_rank                                      \n",
       "average          112.765957  138.095238  354.545455  \n",
       "top              108.333333  123.484848  233.333333  \n",
       "worst             92.307692  127.272727  354.545455  "
      ]
     },
     "execution_count": 193,
     "metadata": {},
     "output_type": "execute_result"
    }
   ],
   "source": [
    "df.groupby('university_rank').female_male_ratio.describe()"
   ]
  },
  {
   "cell_type": "markdown",
   "metadata": {},
   "source": [
    "Вывод: прямая связь между соотношением чисел женщин и мужчин и местом университета в рейтинге не обнаружена, категория average немного выбивается, но скорее всего дело в том, что в нее попало больше всего записей."
   ]
  },
  {
   "cell_type": "markdown",
   "metadata": {},
   "source": [
    "### Гипотеза 4"
   ]
  },
  {
   "cell_type": "markdown",
   "metadata": {},
   "source": [
    "Предположим, что больше всего университетов с большим total_score в Англии или Америке. Для того чтобы это проверить посмотрим какие страны в сумме обладают наибольшим значением."
   ]
  },
  {
   "cell_type": "code",
   "execution_count": 236,
   "metadata": {},
   "outputs": [
    {
     "data": {
      "text/html": [
       "<div>\n",
       "<style scoped>\n",
       "    .dataframe tbody tr th:only-of-type {\n",
       "        vertical-align: middle;\n",
       "    }\n",
       "\n",
       "    .dataframe tbody tr th {\n",
       "        vertical-align: top;\n",
       "    }\n",
       "\n",
       "    .dataframe thead th {\n",
       "        text-align: right;\n",
       "    }\n",
       "</style>\n",
       "<table border=\"1\" class=\"dataframe\">\n",
       "  <thead>\n",
       "    <tr style=\"text-align: right;\">\n",
       "      <th></th>\n",
       "      <th>total_score</th>\n",
       "    </tr>\n",
       "    <tr>\n",
       "      <th>country</th>\n",
       "      <th></th>\n",
       "    </tr>\n",
       "  </thead>\n",
       "  <tbody>\n",
       "    <tr>\n",
       "      <th>Australia</th>\n",
       "      <td>513.9</td>\n",
       "    </tr>\n",
       "    <tr>\n",
       "      <th>Austria</th>\n",
       "      <td>54.2</td>\n",
       "    </tr>\n",
       "    <tr>\n",
       "      <th>Belgium</th>\n",
       "      <td>232.1</td>\n",
       "    </tr>\n",
       "    <tr>\n",
       "      <th>Canada</th>\n",
       "      <td>368.7</td>\n",
       "    </tr>\n",
       "    <tr>\n",
       "      <th>China</th>\n",
       "      <td>70.0</td>\n",
       "    </tr>\n",
       "    <tr>\n",
       "      <th>Denmark</th>\n",
       "      <td>169.8</td>\n",
       "    </tr>\n",
       "    <tr>\n",
       "      <th>Finland</th>\n",
       "      <td>61.9</td>\n",
       "    </tr>\n",
       "    <tr>\n",
       "      <th>France</th>\n",
       "      <td>232.8</td>\n",
       "    </tr>\n",
       "    <tr>\n",
       "      <th>Germany</th>\n",
       "      <td>1049.9</td>\n",
       "    </tr>\n",
       "    <tr>\n",
       "      <th>Hong Kong</th>\n",
       "      <td>125.5</td>\n",
       "    </tr>\n",
       "    <tr>\n",
       "      <th>Israel</th>\n",
       "      <td>50.5</td>\n",
       "    </tr>\n",
       "    <tr>\n",
       "      <th>Italy</th>\n",
       "      <td>156.4</td>\n",
       "    </tr>\n",
       "    <tr>\n",
       "      <th>Luxembourg</th>\n",
       "      <td>49.4</td>\n",
       "    </tr>\n",
       "    <tr>\n",
       "      <th>Netherlands</th>\n",
       "      <td>733.7</td>\n",
       "    </tr>\n",
       "    <tr>\n",
       "      <th>New Zealand</th>\n",
       "      <td>51.0</td>\n",
       "    </tr>\n",
       "    <tr>\n",
       "      <th>Norway</th>\n",
       "      <td>50.1</td>\n",
       "    </tr>\n",
       "    <tr>\n",
       "      <th>Republic of Ireland</th>\n",
       "      <td>52.0</td>\n",
       "    </tr>\n",
       "    <tr>\n",
       "      <th>Russian Federation</th>\n",
       "      <td>51.9</td>\n",
       "    </tr>\n",
       "    <tr>\n",
       "      <th>Singapore</th>\n",
       "      <td>147.4</td>\n",
       "    </tr>\n",
       "    <tr>\n",
       "      <th>South Africa</th>\n",
       "      <td>56.1</td>\n",
       "    </tr>\n",
       "    <tr>\n",
       "      <th>South Korea</th>\n",
       "      <td>162.7</td>\n",
       "    </tr>\n",
       "    <tr>\n",
       "      <th>Spain</th>\n",
       "      <td>155.9</td>\n",
       "    </tr>\n",
       "    <tr>\n",
       "      <th>Sweden</th>\n",
       "      <td>245.9</td>\n",
       "    </tr>\n",
       "    <tr>\n",
       "      <th>Switzerland</th>\n",
       "      <td>391.6</td>\n",
       "    </tr>\n",
       "    <tr>\n",
       "      <th>Taiwan</th>\n",
       "      <td>51.1</td>\n",
       "    </tr>\n",
       "    <tr>\n",
       "      <th>United Kingdom</th>\n",
       "      <td>1972.0</td>\n",
       "    </tr>\n",
       "    <tr>\n",
       "      <th>United States of America</th>\n",
       "      <td>3769.6</td>\n",
       "    </tr>\n",
       "  </tbody>\n",
       "</table>\n",
       "</div>"
      ],
      "text/plain": [
       "                          total_score\n",
       "country                              \n",
       "Australia                       513.9\n",
       "Austria                          54.2\n",
       "Belgium                         232.1\n",
       "Canada                          368.7\n",
       "China                            70.0\n",
       "Denmark                         169.8\n",
       "Finland                          61.9\n",
       "France                          232.8\n",
       "Germany                        1049.9\n",
       "Hong Kong                       125.5\n",
       "Israel                           50.5\n",
       "Italy                           156.4\n",
       "Luxembourg                       49.4\n",
       "Netherlands                     733.7\n",
       "New Zealand                      51.0\n",
       "Norway                           50.1\n",
       "Republic of Ireland              52.0\n",
       "Russian Federation               51.9\n",
       "Singapore                       147.4\n",
       "South Africa                     56.1\n",
       "South Korea                     162.7\n",
       "Spain                           155.9\n",
       "Sweden                          245.9\n",
       "Switzerland                     391.6\n",
       "Taiwan                           51.1\n",
       "United Kingdom                 1972.0\n",
       "United States of America       3769.6"
      ]
     },
     "execution_count": 236,
     "metadata": {},
     "output_type": "execute_result"
    }
   ],
   "source": [
    "import numpy as np\n",
    "new_df = df.dropna()\n",
    "pd.pivot_table(new_df, \n",
    "               values='total_score', \n",
    "               index=['country'],\n",
    "               aggfunc=np.sum)"
   ]
  },
  {
   "cell_type": "markdown",
   "metadata": {},
   "source": [
    "Гипотеза верна: наибольший total_score у Америки, на втором месте Англия, на третьем Германия"
   ]
  },
  {
   "cell_type": "markdown",
   "metadata": {},
   "source": [
    "### Гипотеза 5"
   ]
  },
  {
   "cell_type": "markdown",
   "metadata": {},
   "source": [
    "Наибольшее число интернациональных студентов в Германии (по причине бесплатного образования)."
   ]
  },
  {
   "cell_type": "code",
   "execution_count": 244,
   "metadata": {},
   "outputs": [
    {
     "data": {
      "text/html": [
       "<div>\n",
       "<style scoped>\n",
       "    .dataframe tbody tr th:only-of-type {\n",
       "        vertical-align: middle;\n",
       "    }\n",
       "\n",
       "    .dataframe tbody tr th {\n",
       "        vertical-align: top;\n",
       "    }\n",
       "\n",
       "    .dataframe thead th {\n",
       "        text-align: right;\n",
       "    }\n",
       "</style>\n",
       "<table border=\"1\" class=\"dataframe\">\n",
       "  <thead>\n",
       "    <tr style=\"text-align: right;\">\n",
       "      <th></th>\n",
       "      <th>international_students</th>\n",
       "    </tr>\n",
       "    <tr>\n",
       "      <th>country</th>\n",
       "      <th></th>\n",
       "    </tr>\n",
       "  </thead>\n",
       "  <tbody>\n",
       "    <tr>\n",
       "      <th>United Kingdom</th>\n",
       "      <td>2076.0</td>\n",
       "    </tr>\n",
       "    <tr>\n",
       "      <th>United States of America</th>\n",
       "      <td>1778.0</td>\n",
       "    </tr>\n",
       "    <tr>\n",
       "      <th>Australia</th>\n",
       "      <td>791.0</td>\n",
       "    </tr>\n",
       "    <tr>\n",
       "      <th>Germany</th>\n",
       "      <td>471.0</td>\n",
       "    </tr>\n",
       "    <tr>\n",
       "      <th>France</th>\n",
       "      <td>466.0</td>\n",
       "    </tr>\n",
       "    <tr>\n",
       "      <th>...</th>\n",
       "      <td>...</td>\n",
       "    </tr>\n",
       "    <tr>\n",
       "      <th>Morocco</th>\n",
       "      <td>1.0</td>\n",
       "    </tr>\n",
       "    <tr>\n",
       "      <th>Kenya</th>\n",
       "      <td>1.0</td>\n",
       "    </tr>\n",
       "    <tr>\n",
       "      <th>Unisted States of America</th>\n",
       "      <td>0.0</td>\n",
       "    </tr>\n",
       "    <tr>\n",
       "      <th>Indonesia</th>\n",
       "      <td>0.0</td>\n",
       "    </tr>\n",
       "    <tr>\n",
       "      <th>Unted Kingdom</th>\n",
       "      <td>0.0</td>\n",
       "    </tr>\n",
       "  </tbody>\n",
       "</table>\n",
       "<p>72 rows × 1 columns</p>\n",
       "</div>"
      ],
      "text/plain": [
       "                           international_students\n",
       "country                                          \n",
       "United Kingdom                             2076.0\n",
       "United States of America                   1778.0\n",
       "Australia                                   791.0\n",
       "Germany                                     471.0\n",
       "France                                      466.0\n",
       "...                                           ...\n",
       "Morocco                                       1.0\n",
       "Kenya                                         1.0\n",
       "Unisted States of America                     0.0\n",
       "Indonesia                                     0.0\n",
       "Unted Kingdom                                 0.0\n",
       "\n",
       "[72 rows x 1 columns]"
      ]
     },
     "execution_count": 244,
     "metadata": {},
     "output_type": "execute_result"
    }
   ],
   "source": [
    "new_df = pd.pivot_table(df, \n",
    "               values='international_students', \n",
    "               index=['country'],\n",
    "               aggfunc=np.sum)\n",
    "new_df = new_df.sort_values(by=['international_students'], ascending=[False])\n",
    "new_df"
   ]
  },
  {
   "cell_type": "markdown",
   "metadata": {},
   "source": [
    "Германия вошла в топ-5, но, видимо, не дотянула по причине меньшего количества университетов."
   ]
  },
  {
   "cell_type": "markdown",
   "metadata": {},
   "source": [
    "### Итоги"
   ]
  },
  {
   "cell_type": "markdown",
   "metadata": {},
   "source": [
    "Университеты имеют разное число студентов, вне зависимости от их позиции в рейтинге. Доход университета имеет связь с его положением при ранжировании. Соотношение числа мужчин и женщин в университетах не имеет связи с его уровнем. Наиболее успешными в плане образования оказались Америка и Великобритания, у них же и оказалось больше всего заграничных студентов."
   ]
  },
  {
   "cell_type": "markdown",
   "metadata": {},
   "source": [
    "# Part 2. Web-Scraping"
   ]
  },
  {
   "cell_type": "markdown",
   "metadata": {},
   "source": [
    "##  Цель\n",
    "https://www.cian.ru/novostroyki-2020/ \n",
    "На ЦИАН присутствует огромное количество различных жилых комплексов, информация о которых может использоваться в различных исследованиях. Необходимо собрать информацию о цене, количестве продаваемых квартир с разным количеством комнат, ближайшем метро и названии комплексов.\n",
    "\n"
   ]
  },
  {
   "cell_type": "markdown",
   "metadata": {},
   "source": [
    "Импортируем библиотеки и напишем функцию для получения ссылок на страницы комплексов с общей страницы."
   ]
  },
  {
   "cell_type": "code",
   "execution_count": 3,
   "metadata": {},
   "outputs": [],
   "source": [
    "import requests\n",
    "from bs4 import BeautifulSoup\n",
    "\n",
    "def GetLinks(strInp): #Функция получает на вход ссылку на страницу со списком различных жилых комплексов\n",
    "    r = requests.get(strInp) \n",
    "    page = BeautifulSoup(r.text, 'html.parser')\n",
    "    #Преобразуем страницу в суп и проитерируемся по объектом с тэгом \"a\"\n",
    "    URLarr = []\n",
    "    for link in page('a'):\n",
    "        try:\n",
    "            for sp in link('span'): \n",
    "                #Ниже мы проверяем атрибут 'Class' одно из его значений свойственно ссылкам ведущим на страницы комплексов\n",
    "                if (sp['class'])==['_0fce717cdb--element--GQpBh', '_0fce717cdb--element-color--blue--r6UnU', '_0fce717cdb--element-display--inline--BjFcx', '_0fce717cdb--element-font_weight--bold--yY147', '_0fce717cdb--element-word_wrap--normal--mj6rU', '_0fce717cdb--element-white_space--normal--vpvNM', '_0fce717cdb--element-font_size--18--xuFmC', '_0fce717cdb--element-line_height--22--MjIKo', '_0fce717cdb--element-color_hovered--red--eEisH']:\n",
    "                    URLarr.append(link['href'])\n",
    "        except Exception:\n",
    "            continue\n",
    "    return(URLarr)"
   ]
  },
  {
   "cell_type": "markdown",
   "metadata": {},
   "source": [
    "### Пройдемся по страницам поиска и к каждой применим функцию GetLinks(). Получим все ссылки. Выведем только те, которые ведут на жилые комплексы."
   ]
  },
  {
   "cell_type": "code",
   "execution_count": 4,
   "metadata": {},
   "outputs": [
    {
     "name": "stdout",
     "output_type": "stream",
     "text": [
      "['https://www.cian.ru/zhiloy-kompleks-victory-park-residences-moskva-2184313/', 'https://www.cian.ru/zhiloy-kompleks-aquatoria-moskva-50400/', 'https://www.cian.ru/zhiloy-kompleks-trikolor-moskva-5226/', 'https://www.cian.ru/zhiloy-kompleks-mfk-oko-moskva-5227/', 'https://www.cian.ru/zhiloy-kompleks-kompoziciya-24-moskva-163607/', 'https://www.cian.ru/zhiloy-kompleks-simvol-moskva-7231/', 'https://www.cian.ru/zhiloy-kompleks-mod-moskva-1895910/', 'https://www.cian.ru/zhiloy-kompleks-poklonnaya-9-moskva-123671/', 'https://www.cian.ru/zhiloy-kompleks-klubnyy-gorod-na-reke-primavera-moskva-3818961/', 'https://www.cian.ru/zhiloy-kompleks-sobytie-moskva-91700/', 'https://www.cian.ru/zhiloy-kompleks-artisan-moskva-90586/', 'https://www.cian.ru/zhiloy-kompleks-turandot-residences-moskva-7789/', 'https://www.cian.ru/zhiloy-kompleks-kompleks-apartamentov-slava-moskva-2052/', 'https://www.cian.ru/zhiloy-kompleks-nice-loft-moskva-3202205/', 'https://www.cian.ru/zhiloy-kompleks-afi-park-voroncovskiy-moskva-2344978/', 'https://www.cian.ru/zhiloy-kompleks-hide-moskva-1896273/', 'https://www.cian.ru/zhiloy-kompleks-intonaciya-moskva-3644576/', 'https://www.cian.ru/zhiloy-kompleks-symphony-34-moskva-2515016/', 'https://www.cian.ru/zhiloy-kompleks-filicity-moskva-46323/', 'https://www.cian.ru/zhiloy-kompleks-level-prichalnyy-moskva-1529615/', 'https://www.cian.ru/zhiloy-kompleks-very-moskva-2998964/', 'https://www.cian.ru/zhiloy-kompleks-will-towers-moskva-416192/', 'https://www.cian.ru/zhiloy-kompleks-level-michurinskiy-moskva-3422197/', 'https://odintsovo.cian.ru/zhiloy-kompleks-rezidencii-skolkovo-rabochiy-poselok-zareche-1611/', 'https://www.cian.ru/zhiloy-kompleks-level-nagatinskaya-moskva-3401530/', 'https://www.cian.ru/zhiloy-kompleks-vrubelya-4-moskva-1967590/', 'https://www.cian.ru/zhiloy-kompleks-hill8-moskva-48553/', 'https://www.cian.ru/zhiloy-kompleks-forst-moskva-3730636/', 'https://vidnoye.cian.ru/zhiloy-kompleks-eko-vidnoe-20-centralnyy-kv-l-19520/', 'https://www.cian.ru/zhiloy-kompleks-zvezdy-arbata-moskva-7778/', 'https://www.cian.ru/zhiloy-kompleks-rezidencii-arhitektorov-moskva-7480/', 'https://www.cian.ru/zhiloy-kompleks-serdce-stolicy-moskva-5895/', 'https://www.cian.ru/zhiloy-kompleks-shome-moskva-566723/', 'https://www.cian.ru/zhiloy-kompleks-riversky-moskva-49453/', 'https://www.cian.ru/zhiloy-kompleks-seliger-siti-moskva-36051/', 'https://www.cian.ru/zhiloy-kompleks-reka-moskva-273519/', 'https://www.cian.ru/zhiloy-kompleks-zhiloy-rayon-lia-moskva-149382/', 'https://www.cian.ru/zhiloy-kompleks-dom-na-mosfilmovskoy-moskva-1099/', 'https://www.cian.ru/zhiloy-kompleks-mihalkovskiy-moskva-3206223/', 'https://www.cian.ru/zhiloy-kompleks-arhitektor-moskva-2120269/', 'https://www.cian.ru/zhiloy-kompleks-lumin-moskva-1565486/', 'https://www.cian.ru/zhiloy-kompleks-rezhisser-moskva-2120427/', 'https://www.cian.ru/zhiloy-kompleks-dom-lavrushinskiy-moskva-3401216/', 'https://www.cian.ru/zhiloy-kompleks-loftkvartal-studio-12-moskva-8753/', 'https://www.cian.ru/zhiloy-kompleks-apartamentnyy-kompleks-level-streshnevo-moskva-890268/', 'https://www.cian.ru/zhiloy-kompleks-tessinskiy-1-moskva-2234022/', 'https://www.cian.ru/zhiloy-kompleks-tophills-moskva-1491331/', 'https://www.cian.ru/zhiloy-kompleks-praym-park-moskva-45774/', 'https://www.cian.ru/zhiloy-kompleks-onyx-deluxe-moskva-6329/', 'https://www.cian.ru/zhiloy-kompleks-sydney-city-moskva-2446053/', 'https://www.cian.ru/zhiloy-kompleks-badaevskiy-moskva-1900321/', 'https://www.cian.ru/zhiloy-kompleks-russian-design-district-moskva-1444810/', 'https://www.cian.ru/zhiloy-kompleks-kazakov-grand-loft-moskva-1312533/', 'https://www.cian.ru/zhiloy-kompleks-nagatino-iland-moskva-54522/', 'https://www.cian.ru/zhiloy-kompleks-noble-moskva-3398471/', 'https://www.cian.ru/zhiloy-kompleks-dialog-moskva-176051/', 'https://www.cian.ru/zhiloy-kompleks-kvartaly-2119-moskva-7897/', 'https://mytishchi.cian.ru/zhiloy-kompleks-kit-mytishci-2096941/', 'https://www.cian.ru/zhiloy-kompleks-serebryanyy-park-moskva-45317/', 'https://www.cian.ru/zhiloy-kompleks-sky-garden-moskva-3789720/', 'https://www.cian.ru/zhiloy-kompleks-lunar-moskva-3220424/', 'https://www.cian.ru/zhiloy-kompleks-wellton-gold-moskva-3026557/', 'https://www.cian.ru/zhiloy-kompleks-aviatika-moskva-1939224/', 'https://www.cian.ru/zhiloy-kompleks-oktyabrskoe-pole-moskva-7914/', 'https://www.cian.ru/zhiloy-kompleks-teatralnyy-kvartal-moskva-108461/', 'https://www.cian.ru/zhiloy-kompleks-apartamentnyy-kompleks-level-donskoy-moskva-890318/', 'https://www.cian.ru/zhiloy-kompleks-river-residences-moskva-52703/', 'https://www.cian.ru/zhiloy-kompleks-dvizhenietushino-moskva-379209/', 'https://www.cian.ru/zhiloy-kompleks-beregovoy2-moskva-46840/', 'https://www.cian.ru/zhiloy-kompleks-paveleckaya-siti-moskva-1372209/', 'https://www.cian.ru/zhiloy-kompleks-rotterdam-moskva-3764245/', 'https://www.cian.ru/zhiloy-kompleks-lucky-moskva-49992/', 'https://www.cian.ru/zhiloy-kompleks-bashnya-federaciya-moskva-1502/', 'https://www.cian.ru/zhiloy-kompleks-beregovoy-moskva-3559337/', 'https://www.cian.ru/zhiloy-kompleks-dolgorukovskaya-25-moskva-48693/', 'https://www.cian.ru/zhiloy-kompleks-crystal-moskva-47094/', 'https://www.cian.ru/zhiloy-kompleks-ostrov-moskva-2812286/', 'https://www.cian.ru/zhiloy-kompleks-metropoliya-moskva-49589/', 'https://www.cian.ru/zhiloy-kompleks-bereg-stolicy-moskva-1641578/', 'https://www.cian.ru/zhiloy-kompleks-chistye-prudy-moskva-3820477/', 'https://www.cian.ru/zhiloy-kompleks-mon-cher-moskva-5221/', 'https://www.cian.ru/zhiloy-kompleks-glorax-aura-belorusskaya-moskva-43299/', 'https://www.cian.ru/zhiloy-kompleks-voxhall-moskva-3693192/', 'https://odintsovo.cian.ru/zhiloy-kompleks-zarechnyy-kvartal-rabochiy-poselok-zareche-3804042/', 'https://www.cian.ru/zhiloy-kompleks-balance-moskva-50027/', 'https://www.cian.ru/zhiloy-kompleks-zorge-9-moskva-19487/', 'https://odintsovo.cian.ru/zhiloy-kompleks-sky-skolkovo-rabochiy-poselok-novoivanovskoe-10179/', 'https://www.cian.ru/zhiloy-kompleks-rihard-moskva-49775/', 'https://www.cian.ru/zhiloy-kompleks-neva-towers-moskva-8825/', 'https://www.cian.ru/zhiloy-kompleks-zelenaya-vertikal-moskva-2400715/', 'https://www.cian.ru/zhiloy-kompleks-dizaynerskiy-dom-eleven-moskva-92320/', 'https://www.cian.ru/zhiloy-kompleks-veresk-moskva-1277401/', 'https://www.cian.ru/zhiloy-kompleks-lica-moskva-5430/', 'https://www.cian.ru/zhiloy-kompleks-shagal-moskva-2528281/', 'https://odintsovo.cian.ru/zhiloy-kompleks-odingrad-semeynyy-kvartal-odincovo-118473/', 'https://www.cian.ru/zhiloy-kompleks-fairmont-vesper-residences-moskva-50320/', 'https://www.cian.ru/zhiloy-kompleks-afi-tower-moskva-2674035/', 'https://www.cian.ru/zhiloy-kompleks-kutuzovgrad-ii-moskva-64679/', 'https://www.cian.ru/zhiloy-kompleks-white-khamovniki-moskva-50659/', 'https://www.cian.ru/zhiloy-kompleks-city-bay-moskva-1721051/', 'https://odintsovo.cian.ru/zhiloy-kompleks-zareche-park-rabochiy-poselok-zareche-2615591/', 'https://www.cian.ru/zhiloy-kompleks-headliner-moskva-26654/', 'https://www.cian.ru/zhiloy-kompleks-ilove-moskva-49990/', 'https://www.cian.ru/zhiloy-kompleks-eniteo-moskva-1895918/', 'https://www.cian.ru/zhiloy-kompleks-gorodskie-rezidencii-spires-moskva-48023/', 'https://www.cian.ru/zhiloy-kompleks-skandinaviya-moskva-18177/', 'https://www.cian.ru/zhiloy-kompleks-ispanskie-kvartaly-moskva-7874/', 'https://www.cian.ru/zhiloy-kompleks-kvartal-na-naberezhnoy-now-moskva-666948/', 'https://www.cian.ru/zhiloy-kompleks-cloud-nine-moskva-25398/', 'https://www.cian.ru/zhiloy-kompleks-dream-towers-moskva-3402470/', 'https://www.cian.ru/zhiloy-kompleks-avtorskiy-dom-roza-rossa-moskva-44753/', 'https://www.cian.ru/zhiloy-kompleks-kompleks-apartamentov-baires-moskva-2430892/', 'https://www.cian.ru/zhiloy-kompleks-rezidencii-kompozitorov-moskva-6203/', 'https://www.cian.ru/zhiloy-kompleks-senator-moskva-3401217/', 'https://www.cian.ru/zhiloy-kompleks-polyanka44-moskva-7475/', 'https://www.cian.ru/zhiloy-kompleks-ever-moskva-2709052/', 'https://www.cian.ru/zhiloy-kompleks-klubnyy-dom-vitality-moskva-90589/', 'https://zhk-gorodpark-peredelkino-blizhnee.cian.ru/', 'https://lyubertsy.cian.ru/zhiloy-kompleks-pervyy-lermontovskiy-lyubercy-2120431/', 'https://www.cian.ru/zhiloy-kompleks-nastoyashcee-moskva-1565483/', 'https://www.cian.ru/zhiloy-kompleks-mainstreet-moskva-49513/', 'https://vidnoye.cian.ru/zhiloy-kompleks-yuzhnaya-bitca-yuzhnaya-bitca-mkr-55966/', 'https://www.cian.ru/zhiloy-kompleks-kvartal-38a-moskva-6789/', 'https://www.cian.ru/zhiloy-kompleks-river-park-moskva-6178/', 'https://vidnoye.cian.ru/zhiloy-kompleks-milovidnoe-poselok-razvilka-3419754/', 'https://www.cian.ru/zhiloy-kompleks-vangarden-moskva-3842780/', 'https://www.cian.ru/zhiloy-kompleks-stellar-city-moskva-504035/', 'https://www.cian.ru/zhiloy-kompleks-festival-park2-moskva-2144861/', 'https://www.cian.ru/zhiloy-kompleks-simfoniya-naberezhnyh-moskva-328870/', 'https://www.cian.ru/zhiloy-kompleks-pervyy-leningradskiy-moskva-3692670/', 'https://odintsovo.cian.ru/zhiloy-kompleks-odingrad-odincovo-49287/', 'https://odintsovo.cian.ru/zhiloy-kompleks-tochka-otscheta-derevnya-zhukovka-odincovskiy-rayon-658808/', 'https://www.cian.ru/zhiloy-kompleks-prokshino-moskva-1892458/', 'https://www.cian.ru/zhiloy-kompleks-gorodskie-istorii-rasskazovka-moskva-49526/', 'https://www.cian.ru/zhiloy-kompleks-yuzhnye-sady-moskva-3220268/', 'https://www.cian.ru/zhiloy-kompleks-sky-house-moskva-368/', 'https://www.cian.ru/zhiloy-kompleks-belye-nochi-moskva-20954/', 'https://www.cian.ru/zhiloy-kompleks-sosedi-2119-moskva-1752225/', 'https://www.cian.ru/zhiloy-kompleks-bogenhouse-moskva-3683635/', 'https://krasnogorsk.cian.ru/zhiloy-kompleks-bolshoe-putilkovo-dputilkovo-49429/', 'https://www.cian.ru/zhiloy-kompleks-titul-na-serebryanicheskoy-moskva-300653/', 'https://www.cian.ru/zhiloy-kompleks-svetlyy-mir-stanciya-l-moskva-1528943/', 'https://www.cian.ru/zhiloy-kompleks-cvetochnye-polyany-moskva-49331/', 'https://www.cian.ru/zhiloy-kompleks-skazochnyy-les-moskva-100083/', 'https://www.cian.ru/zhiloy-kompleks-perec-moskva-3135154/', 'https://www.cian.ru/zhiloy-kompleks-apartville-fitnessspa-moskva-5548/', 'https://www.cian.ru/zhiloy-kompleks-ekobunino-moskva-43832/', 'https://www.cian.ru/zhiloy-kompleks-normandiya-moskva-34098/', 'https://www.cian.ru/zhiloy-kompleks-klubnyy-dom-rublevo-moskva-2567913/', 'https://vidnoye.cian.ru/zhiloy-kompleks-svetlyy-mir-biopolis-posmeshcerino-3699868/', 'https://mytishchi.cian.ru/zhiloy-kompleks-skandinavskiy-derevnya-borodino-mytishcinskiy-rayon-20449/', 'https://solnechnogorsk.cian.ru/zhiloy-kompleks-novyy-zelenograd-kutuzovskiy-mkr-6448/', 'https://krasnogorsk.cian.ru/zhiloy-kompleks-tetris-krasnogorsk-6644/', 'https://www.cian.ru/zhiloy-kompleks-domashniy-moskva-7925/', 'https://www.cian.ru/zhiloy-kompleks-gorod-daily-moskva-3676499/', 'https://shchyolkovo.cian.ru/zhiloy-kompleks-solnechnaya-dolina-shcelkovo-5208/', 'https://shchyolkovo.cian.ru/zhiloy-kompleks-solnechnyy-park-shcelkovo-600475/', 'https://podolsk.cian.ru/zhiloy-kompleks-novaya-shcerbinka-dborisovka-897365/', 'https://shchyolkovo.cian.ru/zhiloy-kompleks-dom-na-sirenevoy-shcelkovo-3394804/', 'https://pushkino.cian.ru/zhiloy-kompleks-serebro-pushkino-629229/', 'https://solnechnogorsk.cian.ru/zhiloy-kompleks-pervyy-zelenogradskiy-dgoluboe-7116/', 'https://khotkovo.cian.ru/zhiloy-kompleks-olimp-hotkovo-21322/', 'https://solnechnogorsk.cian.ru/zhiloy-kompleks-bakeevopark-derevnya-bakeevo-45385/', 'https://naro-fominsk.cian.ru/zhiloy-kompleks-voskresenskiy-naro-fominsk-7471/', 'https://naro-fominsk.cian.ru/zhiloy-kompleks-loft-kvartal-apartamentov-fabrik-naro-fominsk-7051/', 'https://www.cian.ru/zhiloy-kompleks-nikolskie-luga-moskva-3727932/', 'https://www.cian.ru/zhiloy-kompleks-zelenyy-park-moskva-3777055/', 'https://www.cian.ru/zhiloy-kompleks-foriver-moskva-1845793/', 'https://www.cian.ru/zhiloy-kompleks-losinoostrovskiy-park-moskva-3663814/', 'https://www.cian.ru/zhiloy-kompleks-kronshtadtskiy-9-moskva-2251726/', 'https://www.cian.ru/zhiloy-kompleks-vtoroy-nagatinskiy-moskva-2314938/', 'https://www.cian.ru/zhiloy-kompleks-barklaya-6-moskva-3360761/', 'https://www.cian.ru/zhiloy-kompleks-meshcerskiy-les-moskva-7483/', 'https://www.cian.ru/zhiloy-kompleks-polyarnaya-25-moskva-43254/', 'https://www.cian.ru/zhiloy-kompleks-horoshevskiy-moskva-7151/', 'https://www.cian.ru/zhiloy-kompleks-yasenevaya-14-moskva-43851/', 'https://www.cian.ru/zhiloy-kompleks-lyublinskiy-park-moskva-49345/', 'https://www.cian.ru/zhiloy-kompleks-mitinskiy-les-moskva-1859265/', 'https://lyubertsy.cian.ru/zhiloy-kompleks-lyubercy-park-lyubercy-49135/', 'https://www.cian.ru/zhiloy-kompleks-sheremetevskiy-moskva-49361/', 'https://odintsovo.cian.ru/zhiloy-kompleks-odincovo1-odincovo-8210/', 'https://www.cian.ru/zhiloy-kompleks-myakinino-park-moskva-49172/', 'https://www.cian.ru/zhiloy-kompleks-rogozhskiy-val-12-moskva-89993/', 'https://lyubertsy.cian.ru/zhiloy-kompleks-lyubereckiy-lyubercy-6180/', 'https://www.cian.ru/zhiloy-kompleks-marshal-moskva-6/', 'https://www.cian.ru/zhiloy-kompleks-krasnokazarmennaya-15-moskva-1872143/', 'https://www.cian.ru/zhiloy-kompleks-amarant-moskva-2123793/', 'https://www.cian.ru/zhiloy-kompleks-kvartal-apartamentov-iskrapark-moskva-6190/', 'https://www.cian.ru/zhiloy-kompleks-perovskoe-2-moskva-2616018/', 'https://www.cian.ru/zhiloy-kompleks-signalnyy-16-moskva-2171478/', 'https://www.cian.ru/zhiloy-kompleks-volokolamskoe-24-moskva-1372264/', 'https://www.cian.ru/zhiloy-kompleks-bolshaya-ochakovskaya-2-moskva-1938730/', 'https://www.cian.ru/zhiloy-kompleks-rustaveli-14-moskva-2163443/', 'https://www.cian.ru/zhiloy-kompleks-vesterdam-moskva-165837/', 'https://mytishchi.cian.ru/zhiloy-kompleks-datskiy-kvartal-49278/', 'https://www.cian.ru/zhiloy-kompleks-capital-towers-moskva-45865/', 'https://www.cian.ru/zhiloy-kompleks-gorodpark-pervyy-moskovskiy-moskva-1448/', 'https://kotelniki.cian.ru/zhiloy-kompleks-belaya-dacha-park-kotelniki-49182/', 'https://www.cian.ru/zhiloy-kompleks-matveevskiy-park-moskva-3499138/', 'https://balashikha.cian.ru/zhiloy-kompleks-novograd-pavlino-novoe-pavlino-mkr-8160/', 'https://balashikha.cian.ru/zhiloy-kompleks-novograd-pavlino-novoe-pavlino-mkr-8160/', 'https://www.cian.ru/zhiloy-kompleks-holland-park-moskva-1311715/', 'https://krasnogorsk.cian.ru/zhiloy-kompleks-ilinskie-luga-posilinskoe-usovo-8795/', 'https://www.cian.ru/zhiloy-kompleks-myata-moskva-1277502/', 'https://vidnoye.cian.ru/zhiloy-kompleks-vostochnoe-butovo-bobrovo-rp-5842/', 'https://www.cian.ru/zhiloy-kompleks-kavkazskiy-bulvar-51-moskva-3804713/', 'https://www.cian.ru/zhiloy-kompleks-kronshtadtskiy-14-moskva-2616170/', 'https://kotelniki.cian.ru/zhiloy-kompleks-kuzminskiy-les-kotelniki-49399/', 'https://zhk-vesna-aprelevka.cian.ru/', 'https://kotelniki.cian.ru/zhiloy-kompleks-oranzh-park-kotelniki-7484/', 'https://www.cian.ru/zhiloy-kompleks-sadovye-kvartaly-moskva-130/', 'https://pushkino.cian.ru/zhiloy-kompleks-novoe-pushkino-pushkino-5523/', 'https://www.cian.ru/zhiloy-kompleks-stolichnye-polyany-moskva-8591/', 'https://www.cian.ru/zhiloy-kompleks-businovskiy-park-moskva-2159741/', 'https://www.cian.ru/zhiloy-kompleks-zapadnyy-port-moskva-34895/', 'https://www.cian.ru/zhiloy-kompleks-salarevo-park-moskva-20063/', 'https://www.cian.ru/zhiloy-kompleks-kolskaya-8-moskva-3015337/', 'https://balashikha.cian.ru/zhiloy-kompleks-izmaylovskiy-les-balashiha-34710/', 'https://www.cian.ru/zhiloy-kompleks-kvartal-apartamentov-teatralnyy-dom-moskva-5931/', 'https://www.cian.ru/zhiloy-kompleks-west-garden-moskva-165992/', 'https://lyubertsy.cian.ru/zhiloy-kompleks-zhulebino-park-gorodok-b-mkr-49046/', 'https://www.cian.ru/zhiloy-kompleks-bauman-house-moskva-49797/', 'https://www.cian.ru/zhiloy-kompleks-green-park-moskva-7817/', 'https://www.cian.ru/zhiloy-kompleks-kvartal-apartamentov-match-point-moskva-7904/', 'https://www.cian.ru/zhiloy-kompleks-d1-moskva-48932/', 'https://www.cian.ru/zhiloy-kompleks-ilmenskiy-17-moskva-644220/', 'https://www.cian.ru/zhiloy-kompleks-novohohlovskaya-15-moskva-2279282/', 'https://vidnoye.cian.ru/zhiloy-kompleks-rimskiy-poselok-razvilka-19496/', 'https://odintsovo.cian.ru/zhiloy-kompleks-skolkovskiy-odincovo-6258/', 'https://www.cian.ru/zhiloy-kompleks-buninskie-luga-moskva-7228/', 'https://www.cian.ru/zhiloy-kompleks-wellton-towers-moskva-46791/', 'https://www.cian.ru/zhiloy-kompleks-sokolnicheskiy-val-1-moskva-3401849/', 'https://www.cian.ru/zhiloy-kompleks-kompleks-apartamentov-alcon-tower-moskva-52705/', 'https://www.cian.ru/zhiloy-kompleks-sirenevyy-park-moskva-49240/', 'https://www.cian.ru/zhiloy-kompleks-amurskiy-park-moskva-1736872/', 'https://www.cian.ru/zhiloy-kompleks-akademika-pavlova-moskva-41881/', 'https://www.cian.ru/zhiloy-kompleks-bolshaya-akademicheskaya-85-moskva-2029573/', 'https://www.cian.ru/zhiloy-kompleks-michurinskiy-park-moskva-2764045/', 'https://www.cian.ru/zhiloy-kompleks-mihaylovskiy-park-moskva-49347/', 'https://odintsovo.cian.ru/zhiloy-kompleks-odinburg-odincovo-5522/', 'https://www.cian.ru/zhiloy-kompleks-serednevskiy-les-moskva-1400247/', 'https://www.cian.ru/zhiloy-kompleks-dmitrovskiy-park-moskva-50505/', 'https://www.cian.ru/zhiloy-kompleks-yutanovo-moskva-3841521/', 'https://www.cian.ru/zhiloy-kompleks-prostornaya-7-moskva-870159/', 'https://kotelniki.cian.ru/zhiloy-kompleks-kvartal-novye-kotelniki-novye-kotelniki-mkr-19539/', 'https://www.cian.ru/zhiloy-kompleks-klyukvennyy-posklyukvennyy-718504/', 'https://www.cian.ru/zhiloy-kompleks-lifevarshavskaya-moskva-48951/', 'https://vidnoye.cian.ru/zhiloy-kompleks-prigorod-lesnoe-prigorod-lesnoe-mkr-7990/', 'https://www.cian.ru/zhiloy-kompleks-dom-s-atlantami-moskva-51507/', 'https://vidnoye.cian.ru/zhiloy-kompleks-minipolis-divnoe-sovhoz-imeni-lenina-s-pos-228508/', 'https://vidnoye.cian.ru/zhiloy-kompleks-minipolis-divnoe-sovhoz-imeni-lenina-s-pos-228508/', 'https://www.cian.ru/zhiloy-kompleks-titul-na-yakimanke-moskva-328992/', 'https://www.cian.ru/zhiloy-kompleks-snegiri-eko-moskva-9/', 'https://klin.cian.ru/zhiloy-kompleks-maydanovo-park-klin-6774/', 'https://www.cian.ru/zhiloy-kompleks-silver-moskva-36007/', 'https://www.cian.ru/zhiloy-kompleks-apartkompleks-monodom-lake-moskva-2511297/', 'https://klin.cian.ru/zhiloy-kompleks-olimp-klin-6773/', 'https://www.cian.ru/zhiloy-kompleks-ostafevo-moskva-48871/', 'https://www.cian.ru/zhiloy-kompleks-dom-v-gazetnom-moskva-2214439/', 'https://www.cian.ru/zhiloy-kompleks-fantastic-house-moskva-1357608/', 'https://lyubertsy.cian.ru/zhiloy-kompleks-lyubercy-zenino-mkr-52840/', 'https://www.cian.ru/zhiloy-kompleks-kvartal-nekrasovka-moskva-51271/', 'https://www.cian.ru/zhiloy-kompleks-parkovaya-apartamenty-moskva-246534/', 'https://www.cian.ru/zhiloy-kompleks-uno-starokoptevskiy-moskva-2987326/', 'https://www.cian.ru/zhiloy-kompleks-balchug-residence-moskva-7763/', 'https://www.cian.ru/zhiloy-kompleks-red7-moskva-50424/', 'https://dmitrov.cian.ru/zhiloy-kompleks-dmitrov-siti-dmitrov-3043350/', 'https://zhk-kvartal-sputnik-odintsovo.cian.ru/', 'https://krasnogorsk.cian.ru/zhiloy-kompleks-serebrica-mikrorayon-opaliha-50026/', 'https://balashikha.cian.ru/zhiloy-kompleks-centr2-4-y-kv-l-5499/', 'https://ruza.cian.ru/zhiloy-kompleks-druzhnyy-druzhnyy-mkr-6772/', 'https://odintsovo.cian.ru/zhiloy-kompleks-level-barvikha-residence-derevnya-barviha-8295/', 'https://www.cian.ru/zhiloy-kompleks-klubnyy-dom-turgenev-moskva-1252876/', 'https://www.cian.ru/zhiloy-kompleks-lyubov-i-golubi-moskva-47119/', 'https://mytishchi.cian.ru/zhiloy-kompleks-novoe-medvedkovo-mytishci-5915/', 'https://www.cian.ru/zhiloy-kompleks-volzhskiy-park-moskva-1311961/', 'https://balashikha.cian.ru/zhiloy-kompleks-geroev-zheleznodorozhnyy-mkr-1688620/', 'https://krasnogorsk.cian.ru/zhiloy-kompleks-8-klenov-mikrorayon-opaliha-2763583/', 'https://www.cian.ru/zhiloy-kompleks-arthaus-moskva-1726/', 'https://khimki.cian.ru/zhiloy-kompleks-rafinad-svistuha-kv-l-53196/', 'https://www.cian.ru/zhiloy-kompleks-self-moskva-3683846/', 'https://www.cian.ru/zhiloy-kompleks-serebryanyy-fontan-moskva-34893/', 'https://www.cian.ru/zhiloy-kompleks-dom-chkalov-moskva-48686/', 'https://korolev.cian.ru/zhiloy-kompleks-pioner-korolev-348080/', 'https://www.cian.ru/zhiloy-kompleks-discovery-park-moskva-49343/', 'https://www.cian.ru/zhiloy-kompleks-rezidenciya-na-vsevolozhskom-moskva-7072/', 'https://odintsovo.cian.ru/zhiloy-kompleks-ravnovesie-selo-perhushkovo-29374/', 'https://www.cian.ru/zhiloy-kompleks-alhimovo-moskva-843339/', 'https://www.cian.ru/zhiloy-kompleks-bolshaya-semerka-moskva-15584/', 'https://krasnogorsk.cian.ru/zhiloy-kompleks-novaya-riga-krasnogorsk-399660/', 'https://www.cian.ru/zhiloy-kompleks-residence-hall-shabolovskiy-moskva-1373416/', 'https://kotelniki.cian.ru/zhiloy-kompleks-zelenyy-ostrov-yuzhnyy-mkr-6760/', 'https://lyubertsy.cian.ru/zhiloy-kompleks-tomilino-park-posmirnyy-34597/', 'https://www.cian.ru/zhiloy-kompleks-akvilon-beside-moskva-2459601/', 'https://www.cian.ru/zhiloy-kompleks-apartkompleks-nahimov-moskva-6788/', 'https://www.cian.ru/zhiloy-kompleks-triniti-moskva-399800/', 'https://www.cian.ru/zhiloy-kompleks-magnum-moskva-48009/', 'https://domodedovo.cian.ru/zhiloy-kompleks-pribrezhnyy-park-syam-3435327/', 'https://www.cian.ru/zhiloy-kompleks-akvilonpark-moskva-109473/', 'https://lyubertsy.cian.ru/zhiloy-kompleks-novotomilino-pticefabrika-mkr-57550/', 'https://www.cian.ru/zhiloy-kompleks-novye-vatutinki-desna-moskva-883272/', 'https://khimki.cian.ru/zhiloy-kompleks-frunzenskiy-mikrorayon-shodnya-14706/', 'https://www.cian.ru/zhiloy-kompleks-din-haus-moskva-843899/', 'https://elektrogorsk.cian.ru/zhiloy-kompleks-moy-gorod-elektrogorsk-7956/', 'https://www.cian.ru/zhiloy-kompleks-profit-moskva-2363941/', 'https://www.cian.ru/zhiloy-kompleks-dom-dostizhenie-moskva-1253036/', 'https://mytishchi.cian.ru/zhiloy-kompleks-pirogovskaya-rivera-dpirogovo-6804/', 'https://staraya-kupavna.cian.ru/zhiloy-kompleks-poletkupavna-staraya-kupavna-2522095/', 'https://www.cian.ru/zhiloy-kompleks-klenovye-allei-moskva-44399/', 'https://pushkino.cian.ru/zhiloy-kompleks-31-kvartal-pushkino-6423/', 'https://balashikha.cian.ru/zhiloy-kompleks-pehra-balashiha-49485/', 'https://istra.cian.ru/zhiloy-kompleks-skazka-spavlovskaya-sloboda-7157/', 'https://www.cian.ru/zhiloy-kompleks-angliyskiy-kvartal-moskva-1725/', 'https://vidnoye.cian.ru/zhiloy-kompleks-zelenye-allei-vidnoe-5198/', 'https://odintsovo.cian.ru/zhiloy-kompleks-serdce-odincovo-odincovo-14305/', 'https://www.cian.ru/zhiloy-kompleks-apartkompleks-flotiliya-moskva-134/', 'https://www.cian.ru/zhiloy-kompleks-prizma-moskva-228884/', 'https://solnechnogorsk.cian.ru/zhiloy-kompleks-pyatnickie-luga-derevnya-yurlovo-solnechnogorskiy-rayon-3849803/', 'https://www.cian.ru/zhiloy-kompleks-highway-moskva-3394802/', 'https://www.cian.ru/zhiloy-kompleks-barkli-medovaya-dolina-moskva-7887/', 'https://www.cian.ru/zhiloy-kompleks-sportivnyy-kvartal-moskva-138134/', 'https://odintsovo.cian.ru/zhiloy-kompleks-laykovo-selo-laykovo-1212/', 'https://www.cian.ru/zhiloy-kompleks-rasskazovo-moskva-6381/', 'https://www.cian.ru/zhiloy-kompleks-dubrovka-moskva-1421/', 'https://www.cian.ru/zhiloy-kompleks-borisoglebskoe-moskva-5494/', 'https://mytishchi.cian.ru/zhiloy-kompleks-dom-smile-mytishci-2978495/', 'https://reutov.cian.ru/zhiloy-kompleks-reut-reutov-2284604/', 'https://www.cian.ru/zhiloy-kompleks-gorod-na-reke-tushino2018-moskva-6984/', 'https://www.cian.ru/zhiloy-kompleks-schaste-na-semenovskoy-moskva-40330/', 'https://balashikha.cian.ru/zhiloy-kompleks-28-mikrorayon-balashiha-6493/', 'https://www.cian.ru/zhiloy-kompleks-apartkompleks-legendarnyy-kvartal-moskva-7482/', 'https://korolev.cian.ru/zhiloy-kompleks-sozvezdie-korolev-47981/', 'https://www.cian.ru/zhiloy-kompleks-trend-moskva-1290591/', 'https://aprelevka.cian.ru/zhiloy-kompleks-vremena-goda-aprelevka-7733/', 'https://vidnoye.cian.ru/zhiloy-kompleks-zhivopisnyy-dzhabkino-3283960/', 'https://vidnoye.cian.ru/zhiloy-kompleks-tri-kvartala-poselok-razvilka-19528/', 'https://www.cian.ru/zhiloy-kompleks-izmaylovskiy-park-moskva-2930544/', 'https://www.cian.ru/zhiloy-kompleks-kompleks-apartamentov-citimix-moskva-38266/', 'https://khimki.cian.ru/zhiloy-kompleks-avrora-himki-49496/', 'https://istra.cian.ru/zhiloy-kompleks-novoe-nahabino-dchernaya-1310/', 'https://lyubertsy.cian.ru/zhiloy-kompleks-egorovo-park-posegorovo-3709651/', 'https://www.cian.ru/zhiloy-kompleks-preobrazhenie-moskva-1701/', 'https://www.cian.ru/zhiloy-kompleks-rezidenciya-sokolniki-moskva-2498484/', 'https://krasnogorsk.cian.ru/zhiloy-kompleks-lesoberezhnyy-snikolo-uryupino-33416/', 'https://mytishchi.cian.ru/zhiloy-kompleks-lider-park-mytishci-5687/', 'https://lyubertsy.cian.ru/zhiloy-kompleks-pilot-918-lyubercy-2585359/', 'https://zvenigorod.cian.ru/zhiloy-kompleks-sozvezdie-3-y-mkr-8664/', 'https://aprelevka.cian.ru/zhiloy-kompleks-park-aprel-posfrunzevec-41567/', 'https://www.cian.ru/zhiloy-kompleks-gorki-park-3526780/', 'https://www.cian.ru/zhiloy-kompleks-dinastiya-moskva-19800/', 'https://krasnogorsk.cian.ru/zhiloy-kompleks-anikeevskiy-snikolo-uryupino-3401854/', 'https://www.cian.ru/zhiloy-kompleks-les-moskva-843911/', 'https://lobnya.cian.ru/zhiloy-kompleks-mikrorayon-lobnya-siti-lobnya-5686/', 'https://odintsovo.cian.ru/zhiloy-kompleks-kvarta-odincovo-7114/', 'https://www.cian.ru/zhiloy-kompleks-malaya-bronnaya-15-moskva-45340/', 'https://www.cian.ru/zhiloy-kompleks-new-form-zhigulevskaya-moskva-3839637/', 'https://krasnogorsk.cian.ru/zhiloy-kompleks-krasnogorsk-park-mikrorayon-opaliha-6355/', 'https://lytkarino.cian.ru/zhiloy-kompleks-garmoniya-park-6-y-mkr-195342/', 'https://www.cian.ru/zhiloy-kompleks-mir-mitino-moskva-8562/', 'https://lyubertsy.cian.ru/zhiloy-kompleks-oblaka-20-lyubercy-2717569/', 'https://shchyolkovo.cian.ru/zhiloy-kompleks-novoe-zhegalovo-shcelkovo-6619/', 'https://korolev.cian.ru/zhiloy-kompleks-river-park-pervomayskiy-mkr-6627/', 'https://www.cian.ru/zhiloy-kompleks-novoe-vnukovo-moskva-2341810/', 'https://losino-petrovskiy.cian.ru/zhiloy-kompleks-rascvetay-na-pushkina-losino-petrovskiy-7854/', 'https://khimki.cian.ru/zhiloy-kompleks-mayak-himki-6116/', 'https://www.cian.ru/zhiloy-kompleks-talisman-na-dmitrovskom-moskva-50217/', 'https://www.cian.ru/zhiloy-kompleks-novonikolskoe-moskva-5693/', 'https://www.cian.ru/zhiloy-kompleks-my-space-na-okskoy-moskva-2825472/', 'https://pushkino.cian.ru/zhiloy-kompleks-yuzhnoe-pushkino-mikrorayon-mamontovka-8682/', 'https://krasnogorsk.cian.ru/zhiloy-kompleks-izumrudnye-holmy-krasnogorsk-1863/', 'https://www.cian.ru/zhiloy-kompleks-utesov-moskva-5892/', 'https://mytishchi.cian.ru/zhiloy-kompleks-mytishci-park-mytishci-2664265/', 'https://www.cian.ru/zhiloy-kompleks-nastroenie-moskva-49776/', 'https://odintsovo.cian.ru/zhiloy-kompleks-apart-kompleks-m1-skolkovo-rabochiy-poselok-novoivanovskoe-301156/', 'https://zhk-rumyancevopark.cian.ru/', 'https://www.cian.ru/zhiloy-kompleks-prechistenka-8-moskva-3062236/', 'https://serpukhov.cian.ru/zhiloy-kompleks-yubileynyy-serpuhov-870154/', 'https://zhk-nekrasovka.cian.ru/', 'https://vidnoye.cian.ru/zhiloy-kompleks-pervyy-kvartal-dsapronovo-16751/', 'https://mytishchi.cian.ru/zhiloy-kompleks-otradnyy-mytishci-39997/', 'https://vidnoye.cian.ru/zhiloy-kompleks-vidnyy-bereg2-centralnyy-kv-l-57549/', 'https://odintsovo.cian.ru/zhiloy-kompleks-soyuznyy-odincovo-7225/', 'https://www.cian.ru/zhiloy-kompleks-vremya-moskva-42691/', 'https://balashikha.cian.ru/zhiloy-kompleks-stolichnyy-savvino-mkr-8643/', 'https://www.cian.ru/zhiloy-kompleks-bolshaya-dmitrovka-ix-moskva-46529/', 'https://www.cian.ru/zhiloy-kompleks-novodanilovskaya-8-moskva-1342217/', 'https://odintsovo.cian.ru/zhiloy-kompleks-mikrorayon-centralnyy-odincovo-6520/', 'https://www.cian.ru/zhiloy-kompleks-homecity-moskva-1341314/', 'https://noginsk.cian.ru/zhiloy-kompleks-istomkino-noginsk-17877/', 'https://www.cian.ru/zhiloy-kompleks-rezidencii-zamoskvoreche-moskva-36935/', 'https://krasnogorsk.cian.ru/zhiloy-kompleks-smart-kvartal-lesnaya-otrada-daristovo-2019162/', 'https://www.cian.ru/zhiloy-kompleks-verdi-moskva-3731175/', 'https://www.cian.ru/zhiloy-kompleks-filatov-lug-moskva-46322/', 'https://mytishchi.cian.ru/zhiloy-kompleks-atlantis-mytishci-3786932/', 'https://www.cian.ru/zhiloy-kompleks-sinatra-moskva-50481/', 'https://www.cian.ru/zhiloy-kompleks-zilart-moskva-7889/', 'https://odintsovo.cian.ru/zhiloy-kompleks-innovaciya-rabochiy-poselok-novoivanovskoe-49488/', 'https://www.cian.ru/zhiloy-kompleks-manifest-moskva-134400/', 'https://www.cian.ru/zhiloy-kompleks-lefort-moskva-7156/', 'https://www.cian.ru/zhiloy-kompleks-forest-moskva-48911/', 'https://pushcino.cian.ru/zhiloy-kompleks-pushcino-grad-ab-mkr-49826/', 'https://dolgoprudny.cian.ru/zhiloy-kompleks-brigantina-dolgoprudnyy-50024/', 'https://domodedovo.cian.ru/zhiloy-kompleks-kvartal-galchino-dgalchino-6747/', 'https://www.cian.ru/zhiloy-kompleks-ulica-kominterna-10-moskva-6787/', 'https://domodedovo.cian.ru/zhiloy-kompleks-domodedovo-park-sdomodedovo-50673/', 'https://mytishchi.cian.ru/zhiloy-kompleks-katuar-dsuharevo-8689/', 'https://vidnoye.cian.ru/zhiloy-kompleks-vidnyy-gorod-vidnoe-8296/', 'https://www.cian.ru/zhiloy-kompleks-dosflota-10-moskva-3481983/', 'https://ivanteyevka.cian.ru/zhiloy-kompleks-vesna-ivanteevka-41737/', 'https://ivanteyevka.cian.ru/zhiloy-kompleks-na-ul-hlebozavodskaya-ivanteevka-2831621/', 'https://solnechnogorsk.cian.ru/zhiloy-kompleks-nikolskaya-panorama-2458169/', 'https://www.cian.ru/zhiloy-kompleks-troparevo-park-moskva-3182068/', 'https://odintsovo.cian.ru/zhiloy-kompleks-odincovskie-kvartaly-mzhk-izumrudnaya-dolina-terjk-5497/', 'https://www.cian.ru/zhiloy-kompleks-zagore-moskva-1436/', 'https://mytishchi.cian.ru/zhiloy-kompleks-imperatorskie-mytishci-8793/', 'https://www.cian.ru/zhiloy-kompleks-geometriya-dushinskaya-16-moskva-6786/', 'https://mytishchi.cian.ru/zhiloy-kompleks-mytishciholl-mytishci-61791/', 'https://www.cian.ru/zhiloy-kompleks-high-life-letnikovskaya-11-moskva-3202206/', 'https://www.cian.ru/zhiloy-kompleks-kinetik-moskva-3683691/', 'https://www.cian.ru/zhiloy-kompleks-ekokvartal-akvilon-mitino-moskva-1938885/', 'https://www.cian.ru/zhiloy-kompleks-rascvetay-v-lyublino-moskva-2028757/', 'https://krasnogorsk.cian.ru/zhiloy-kompleks-mitino-o2-dsaburovo-7741/', 'https://www.cian.ru/zhiloy-kompleks-monodom-family-moskva-1327470/', 'https://www.cian.ru/zhiloy-kompleks-balaklavskiy-prospekt-15-moskva-6210/', 'https://krasnogorsk.cian.ru/zhiloy-kompleks-ilinka-9-posilinskoe-usovo-155895/', 'https://krasnogorsk.cian.ru/zhiloy-kompleks-opaliha-o3-mikrorayon-opaliha-6454/', 'https://dmitrov.cian.ru/zhiloy-kompleks-gavan-dmitrov-8648/', 'https://www.cian.ru/zhiloy-kompleks-nevskiy-moskva-7210/', 'https://www.cian.ru/zhiloy-kompleks-pozitiv-moskva-14895/', 'https://www.cian.ru/zhiloy-kompleks-nizhegorodskaya-74-moskva-1564992/', 'https://lyubertsy.cian.ru/zhiloy-kompleks-tomilino-posegorovo-8720/', 'https://solnechnogorsk.cian.ru/zhiloy-kompleks-serebryanye-rosy-andreevka-rp-50236/', 'https://istra.cian.ru/zhiloy-kompleks-malaya-istra-dvysokovo-5812/', 'https://lobnya.cian.ru/zhiloy-kompleks-yuzhnyy-lobnya-8335/', 'https://www.cian.ru/zhiloy-kompleks-level-amurskaya-moskva-35146/', 'https://www.cian.ru/zhiloy-kompleks-izmaylovo-moskva-35833/', 'https://www.cian.ru/zhiloy-kompleks-freedom-moskva-6356/', 'https://mytishchi.cian.ru/zhiloy-kompleks-yaroslavskiy-mytishci-2346/', 'https://zhk-moskvichka.cian.ru/', 'https://noginsk.cian.ru/zhiloy-kompleks-novoe-biserovo-2-sbiserovo-19815/', 'https://www.cian.ru/zhiloy-kompleks-savvin-river-residence-moskva-49789/', 'https://krasnogorsk.cian.ru/zhiloy-kompleks-mikrogorod-v-lesu-posotradnoe-619/', 'https://www.cian.ru/zhiloy-kompleks-vostochnaya-evropa-dbolshie-zherebcy-7096/', 'https://solnechnogorsk.cian.ru/zhiloy-kompleks-berezki-poszhukovo-5502/', 'https://www.cian.ru/zhiloy-kompleks-union-park-moskva-5317/', 'https://www.cian.ru/zhiloy-kompleks-solncevo-park-moskva-5187/', 'https://domodedovo.cian.ru/zhiloy-kompleks-ul-kirova-17-centralnyy-mkr-15302/', 'https://www.cian.ru/zhiloy-kompleks-klubnyy-dom-sohonoho-moskva-49739/', 'https://www.cian.ru/zhiloy-kompleks-neboneboskreby-na-michurinskom-56-moskva-46571/', 'https://reutov.cian.ru/zhiloy-kompleks-yubileynyy-reutov-29296/', 'https://www.cian.ru/zhiloy-kompleks-mihaylova-31-moskva-30377/', 'https://www.cian.ru/zhiloy-kompleks-ya51-moskva-3191343/', 'https://dmitrov.cian.ru/zhiloy-kompleks-lesnoy-kvartal-imeni-v-nmahalina-mkr-41221/', 'https://krasnogorsk.cian.ru/zhiloy-kompleks-spasskiy-most-krasnogorsk-5155/', 'https://shatura.cian.ru/zhiloy-kompleks-na-ul-radchenko-shatura-49802/', 'https://www.cian.ru/zhiloy-kompleks-play-moskva-48559/', 'https://www.cian.ru/zhiloy-kompleks-city-park-moskva-19492/', 'https://krasnogorsk.cian.ru/zhiloy-kompleks-ilinoys-krasnogorsk-3401541/', 'https://noginsk.cian.ru/zhiloy-kompleks-po-ul-3go-internacionala-86-noginsk-6434/', 'https://stupino.cian.ru/zhiloy-kompleks-bolshoe-stupino-stupino-6783/', 'https://losino-petrovskiy.cian.ru/zhiloy-kompleks-petrovskiy-kvartal-losino-petrovskiy-7159/', 'https://www.cian.ru/zhiloy-kompleks-kashirkalike-moskva-1356482/', 'https://www.cian.ru/zhiloy-kompleks-leningradka-58-moskva-48502/', 'https://lytkarino.cian.ru/zhiloy-kompleks-novoe-lytkarino-lytkarino-49043/', 'https://www.cian.ru/zhiloy-kompleks-lifekutuzovskiy-moskva-45281/', 'https://khimki.cian.ru/zhiloy-kompleks-dom-u-reki-ivakino-kv-l-7917/', 'https://reutov.cian.ru/zhiloy-kompleks-gagarina-23a-reutov-22811/', 'https://www.cian.ru/zhiloy-kompleks-coloft-moskva-36374/', 'https://www.cian.ru/zhiloy-kompleks-vtb-arena-park-moskva-5535/', 'https://staraya-kupavna.cian.ru/zhiloy-kompleks-kupavino-staraya-kupavna-6374/', 'https://www.cian.ru/zhiloy-kompleks-marushkino-moskva-1289/', 'https://elektrostal.cian.ru/zhiloy-kompleks-vysokovo-elektrostal-475/', 'https://lyubertsy.cian.ru/zhiloy-kompleks-lyubercy-2018-lyubercy-39537/', 'https://solnechnogorsk.cian.ru/zhiloy-kompleks-molodezhnyy3-solnechnogorsk-3683719/', 'https://www.cian.ru/zhiloy-kompleks-izmaylovskiy-11-moskva-48930/', 'https://www.cian.ru/zhiloy-kompleks-kutuzovgrad-i-moskva-8692/', 'https://www.cian.ru/zhiloy-kompleks-klubnyy-dom-maison-rouge-moskva-48018/', 'https://www.cian.ru/zhiloy-kompleks-caricyno2-moskva-1429/', 'https://www.cian.ru/zhiloy-kompleks-legenda-moskva-6294/', 'https://solnechnogorsk.cian.ru/zhiloy-kompleks-solnechnaya-alleya-mendeleevo-rp-14169/', 'https://www.cian.ru/zhiloy-kompleks-the-mostman-moskva-30993/', 'https://domodedovo.cian.ru/zhiloy-kompleks-ledovskaya-uchastok-31-vostryakovo-mkr-8724/', 'https://www.cian.ru/zhiloy-kompleks-andersen-moskva-7240/', 'https://www.cian.ru/zhiloy-kompleks-aresidence-moskva-36571/', 'https://www.cian.ru/zhiloy-kompleks-lclub-moskva-192697/', 'https://www.cian.ru/zhiloy-kompleks-villa-grace-moskva-49483/', 'https://lobnya.cian.ru/zhiloy-kompleks-batareynyy-lobnya-8666/', 'https://solnechnogorsk.cian.ru/zhiloy-kompleks-parkovyy-solnechnogorsk-2798755/', 'https://solnechnogorsk.cian.ru/zhiloy-kompleks-andreevka-andreevka-rp-7502/', 'https://lyubertsy.cian.ru/zhiloy-kompleks-twin-house-lyubercy-49055/', 'https://www.cian.ru/zhiloy-kompleks-discovery-moskva-49034/', 'https://istra.cian.ru/zhiloy-kompleks-pavlovskiy-kvartal-dlobanovo-5968/', 'https://www.cian.ru/zhiloy-kompleks-talisman-na-vodnom-moskva-49746/', 'https://www.cian.ru/zhiloy-kompleks-praym-taym-moskva-15245/', 'https://kotelniki.cian.ru/zhiloy-kompleks-belye-rosy-kotelniki-5425/', 'https://krasnogorsk.cian.ru/zhiloy-kompleks-otrada-2-ochered-posotradnoe-8796/', 'https://vidnoye.cian.ru/zhiloy-kompleks-gosudarev-dom-lopatino-rp-6302/', 'https://lytkarino.cian.ru/zhiloy-kompleks-prezidentskiy-lytkarino-8667/', 'https://losino-petrovskiy.cian.ru/zhiloy-kompleks-lukinovarino-sverdlovskiy-rp-6246/', 'https://mytishchi.cian.ru/zhiloy-kompleks-fedoskinskaya-sloboda-daksakovo-8769/']\n"
     ]
    }
   ],
   "source": [
    "finalURL = []\n",
    "pageIndex = 1;\n",
    "while (pageIndex)<=20: \n",
    "    #Данная ниже ссылка является адаптированной для итерации по страницам поиска жилых комплексов.\n",
    "    pageLink = \"https://www.cian.ru/newobjects/list?deal_type=sale&engine_version=2&offer_type=newobject&region=-1&p=\"+str(pageIndex)\n",
    "    finalURL.extend(GetLinks(pageLink))\n",
    "    pageIndex += 1\n",
    "print(finalURL)"
   ]
  },
  {
   "cell_type": "markdown",
   "metadata": {},
   "source": [
    "### Пишем код для одной конкретной страницы для получения необходимых данных о ЖК."
   ]
  },
  {
   "cell_type": "code",
   "execution_count": 5,
   "metadata": {},
   "outputs": [
    {
     "name": "stdout",
     "output_type": "stream",
     "text": [
      "{'Name': 'ЖК «Victory Park Residences (Виктори Парк Резиденсез)» ', 'ClosestStation': 'м. Парк Победы', 'Class': 'Премиум', 'DateOfConstruction': '2023', 'FloorsNumber': '10-11', 'Type': 'Монолитный', 'AvgPrice': '91,3', 'FullPriceMin': '57,47', 'FullPriceMax': '222,06', 'PricePerMeterMin': '739', 'PricePerMeterMax': '1235', '1rooms': '0', '2rooms': '4', '3rooms': '2', '4rooms': '5', '5rooms': '0', 'Сrooms': '0'}\n"
     ]
    }
   ],
   "source": [
    "#Используем первую ссылку в нашем массиве, для изучения и получения данных.\n",
    "currentURL = finalURL[0]\n",
    "currentPage = requests.get(currentURL)\n",
    "currentSoup = BeautifulSoup(currentPage.text, 'html.parser')\n",
    "\n",
    "#Словарь для записи полученных данных.\n",
    "dictInfo = {'Name' : '', 'ClosestStation': '','Class' : '','DateOfConstruction' : '','FloorsNumber' : '','Type' : '','AvgPrice' : '0', 'FullPriceMin' : '', 'FullPriceMax' : '',\n",
    "            'PricePerMeterMin' : '','PricePerMeterMax' : '', '1rooms': '0', '2rooms': '0', '3rooms': '0', '4rooms': '0', '5rooms': '0', 'Сrooms': '0'}\n",
    "#Извлекаем название комплекса\n",
    "nameContainer = currentSoup.find('div', {'data-name' : 'NewbuildingName'})\n",
    "nameFullString = nameContainer.h1.text\n",
    "dictInfo['Name'] = nameFullString\n",
    "\n",
    "#Срок сдачи, класс жилья, этажность, тип дома.\n",
    "infoArr = currentSoup.find('div', {'class' :'_7a3fb80146--specifications--A93Rj'}).findAll('div', {'class' :'_7a3fb80146--specification--eKsQt'})\n",
    "dictInfo['DateOfConstruction'] = infoArr[0].div.div.span.text\n",
    "dictInfo['Class'] = infoArr[1].div.div.span.text\n",
    "floorsInfo = infoArr[2].div.div.span.text\n",
    "if (len(floorsInfo.split())==4):\n",
    "    dictInfo['FloorsNumber'] = floorsInfo.split()[1]+'-'+floorsInfo.split()[3]\n",
    "else:\n",
    "    dictInfo['FloorsNumber'] = floorsInfo\n",
    "dictInfo['Type'] = infoArr[4].div.div.span.text\n",
    "\n",
    "#Получаем максимаьную и минимальную полную стоимость.\n",
    "priceContainer = currentSoup.find('div', {'data-name' : 'Price'})\n",
    "priceFullString = priceContainer.div.span.text.split()\n",
    "dictInfo['FullPriceMin'] = priceFullString[1]\n",
    "dictInfo['FullPriceMax'] = priceFullString[5]\n",
    "\n",
    "#Получаем максимаьную и минимальную стоимость за меип.\n",
    "pricePerMeterString = priceContainer.find_all('span')[1].text.split()\n",
    "\n",
    "#Используем if чтобы правильно распарсить строку.\n",
    "if len(pricePerMeterString) == 9:\n",
    "    dictInfo['PricePerMeterMin'] = pricePerMeterString[1]+pricePerMeterString[2]\n",
    "    dictInfo['PricePerMeterMax'] = pricePerMeterString[5]+pricePerMeterString[6]\n",
    "elif len(pricePerMeterString) == 8:\n",
    "    dictInfo['PricePerMeterMin'] = pricePerMeterString[1]\n",
    "    dictInfo['PricePerMeterMax'] = pricePerMeterString[4]+pricePerMeterString[5]\n",
    "else:\n",
    "    dictInfo['PricePerMeterMin'] = pricePerMeterString[1]\n",
    "    dictInfo['PricePerMeterMax'] = pricePerMeterString[4]\n",
    "    \n",
    "#Средняя стоимость.    \n",
    "avgPrice = currentSoup.findAll('div', {'data-name' : 'Summaries'})[0].div.div.span.text.split()[0]\n",
    "dictInfo['AvgPrice'] = avgPrice\n",
    "\n",
    "#Ближайшая станция метро\n",
    "station = currentSoup.find('span', {'class' :\"_7a3fb80146--color_black_100--kPHhJ _7a3fb80146--lineHeight_20px--tUURJ _7a3fb80146--fontWeight_normal--P9Ylg _7a3fb80146--fontSize_14px--TCfeJ _7a3fb80146--display_inline--bMJq9 _7a3fb80146--text--g9xAG _7a3fb80146--text_letterSpacing__normal--xbqP6\"}).text\n",
    "dictInfo['ClosestStation'] = station\n",
    "\n",
    "#Итерируемся по конкретному объекту хранящему данные о разных типах квартир, получая их количество.\n",
    "offersList = currentSoup.findAll('div', {'data-name' : 'OffersRow'})\n",
    "for offer in offersList:\n",
    "    numberOfRooms = offer.div.div.a.h4.text[0]\n",
    "    numberOfFlats = offer.find('span', {'class' :\"_7a3fb80146--color_primary_100--mNATk _7a3fb80146--lineHeight_22px--bnKK9 _7a3fb80146--fontWeight_normal--P9Ylg _7a3fb80146--fontSize_16px--RB9YW _7a3fb80146--display_inline--bMJq9 _7a3fb80146--text--g9xAG _7a3fb80146--text_letterSpacing__normal--xbqP6\"}).text[0]\n",
    "    dictInfo[numberOfRooms+'rooms'] = numberOfFlats\n",
    "    \n",
    "#Выведем для проверки информации.\n",
    "print(dictInfo)"
   ]
  },
  {
   "cell_type": "markdown",
   "metadata": {},
   "source": [
    "### Создаем функцию для использования кода выше на любой подобный URL."
   ]
  },
  {
   "cell_type": "code",
   "execution_count": 6,
   "metadata": {},
   "outputs": [],
   "source": [
    "def CollectInfo(currentURL):\n",
    "    currentPage = requests.get(currentURL)\n",
    "    currentSoup = BeautifulSoup(currentPage.text, 'html.parser')\n",
    "    dictInfo = {'Name' : '', 'ClosestStation': '','Class' : '','DateOfConstruction' : '','FloorsNumber' : '','Type' : '', 'AvgPrice' : 0, 'FullPriceMin' : 0, 'FullPriceMax' : 0,\n",
    "            'PricePerMeterMin' : 0,'PricePerMeterMax' : 0, '1rooms': 0, '2rooms': 0, '3rooms': 0, '4rooms': 0, '5rooms': 0, 'Сrooms' : 0}\n",
    "    nameContainer = currentSoup.find('div', {'data-name' : 'NewbuildingName'})\n",
    "    nameFullString = nameContainer.h1.text\n",
    "    dictInfo['Name'] = nameFullString\n",
    "\n",
    "    station = currentSoup.find('span', \n",
    "                               {'class' :\"_7a3fb80146--color_black_100--kPHhJ _7a3fb80146--lineHeight_20px--tUURJ _7a3fb80146--fontWeight_normal--P9Ylg _7a3fb80146--fontSize_14px--TCfeJ _7a3fb80146--display_inline--bMJq9 _7a3fb80146--text--g9xAG _7a3fb80146--text_letterSpacing__normal--xbqP6\"}).text\n",
    "    dictInfo['ClosestStation'] = station\n",
    "    \n",
    "    infoArr = currentSoup.find('div', {'class' :'_7a3fb80146--specifications--A93Rj'}).findAll('div', {'class' :'_7a3fb80146--specification--eKsQt'})\n",
    "    dictInfo['DateOfConstruction'] = infoArr[0].div.div.span.text\n",
    "    dictInfo['Class'] = infoArr[1].div.div.span.text\n",
    "    floorsInfo = infoArr[2].div.div.span.text\n",
    "    if (len(floorsInfo.split())==4):\n",
    "        dictInfo['FloorsNumber'] = floorsInfo.split()[1]+'-'+floorsInfo.split()[3]\n",
    "    else:\n",
    "        dictInfo['FloorsNumber'] = floorsInfo\n",
    "    dictInfo['Type'] = infoArr[4].div.div.span.text\n",
    "    \n",
    "    avgPrice = currentSoup.findAll('div', {'data-name' : 'Summaries'})[0].div.div.span.text.split()[0]\n",
    "    dictInfo['AvgPrice'] = avgPrice\n",
    "\n",
    "    priceContainer = currentSoup.find('div', {'data-name' : 'Price'})\n",
    "    priceFullString = priceContainer.div.span.text.split()\n",
    "    dictInfo['FullPriceMin'] = priceFullString[1]\n",
    "    dictInfo['FullPriceMax'] = priceFullString[5]\n",
    "    \n",
    "    pricePerMeterString = priceContainer.find_all('span')[1].text.split()\n",
    "    if len(pricePerMeterString) == 9:\n",
    "        dictInfo['PricePerMeterMin'] = pricePerMeterString[1]+pricePerMeterString[2]\n",
    "        dictInfo['PricePerMeterMax'] = pricePerMeterString[5]+pricePerMeterString[6]\n",
    "    elif len(pricePerMeterString) == 8:\n",
    "        dictInfo['PricePerMeterMin'] = pricePerMeterString[1]\n",
    "        dictInfo['PricePerMeterMax'] = pricePerMeterString[4]+pricePerMeterString[5]\n",
    "    else:\n",
    "        dictInfo['PricePerMeterMin'] = pricePerMeterString[1]\n",
    "        dictInfo['PricePerMeterMax'] = pricePerMeterString[4]\n",
    "\n",
    "    offersList = currentSoup.findAll('div', {'data-name' : 'OffersRow'})\n",
    "    for offer in offersList:\n",
    "        numberOfRooms = offer.div.div.a.h4.text[0]\n",
    "        numberOfFlats = offer.find('span', \n",
    "                                   {'class' :\"_7a3fb80146--color_primary_100--mNATk _7a3fb80146--lineHeight_22px--bnKK9 _7a3fb80146--fontWeight_normal--P9Ylg _7a3fb80146--fontSize_16px--RB9YW _7a3fb80146--display_inline--bMJq9 _7a3fb80146--text--g9xAG _7a3fb80146--text_letterSpacing__normal--xbqP6\"}).text.split()[0]\n",
    "        dictInfo[numberOfRooms+'rooms'] = numberOfFlats\n",
    "    \n",
    "    return(dictInfo['Name'], dictInfo['ClosestStation'],dictInfo['Class'],\n",
    "           dictInfo['DateOfConstruction'],dictInfo['FloorsNumber'],dictInfo['Type'], \n",
    "           dictInfo['AvgPrice'], dictInfo['FullPriceMin'], dictInfo['FullPriceMax'], dictInfo['PricePerMeterMin'], dictInfo['PricePerMeterMax'], dictInfo['1rooms'], dictInfo['2rooms'], dictInfo['3rooms'], dictInfo['4rooms'], dictInfo['5rooms'], dictInfo['Сrooms'])\n"
   ]
  },
  {
   "cell_type": "markdown",
   "metadata": {},
   "source": [
    "### Применим полученную функцию к массиву ссылок, пропуская проблемные данные, отлавливая ошибки.\n"
   ]
  },
  {
   "cell_type": "code",
   "execution_count": 7,
   "metadata": {},
   "outputs": [
    {
     "data": {
      "text/html": [
       "<div>\n",
       "<style scoped>\n",
       "    .dataframe tbody tr th:only-of-type {\n",
       "        vertical-align: middle;\n",
       "    }\n",
       "\n",
       "    .dataframe tbody tr th {\n",
       "        vertical-align: top;\n",
       "    }\n",
       "\n",
       "    .dataframe thead th {\n",
       "        text-align: right;\n",
       "    }\n",
       "</style>\n",
       "<table border=\"1\" class=\"dataframe\">\n",
       "  <thead>\n",
       "    <tr style=\"text-align: right;\">\n",
       "      <th></th>\n",
       "      <th>0</th>\n",
       "      <th>1</th>\n",
       "      <th>2</th>\n",
       "      <th>3</th>\n",
       "      <th>4</th>\n",
       "      <th>5</th>\n",
       "      <th>6</th>\n",
       "      <th>7</th>\n",
       "      <th>8</th>\n",
       "      <th>9</th>\n",
       "      <th>10</th>\n",
       "      <th>11</th>\n",
       "      <th>12</th>\n",
       "      <th>13</th>\n",
       "      <th>14</th>\n",
       "      <th>15</th>\n",
       "      <th>16</th>\n",
       "    </tr>\n",
       "  </thead>\n",
       "  <tbody>\n",
       "    <tr>\n",
       "      <th>0</th>\n",
       "      <td>ЖК «Victory Park Residences (Виктори Парк Рези...</td>\n",
       "      <td>м. Парк Победы</td>\n",
       "      <td>Премиум</td>\n",
       "      <td>2023</td>\n",
       "      <td>10-11</td>\n",
       "      <td>Монолитный</td>\n",
       "      <td>91,3</td>\n",
       "      <td>57,47</td>\n",
       "      <td>222,06</td>\n",
       "      <td>739</td>\n",
       "      <td>1235</td>\n",
       "      <td>0</td>\n",
       "      <td>41</td>\n",
       "      <td>22</td>\n",
       "      <td>5</td>\n",
       "      <td>0</td>\n",
       "      <td>0</td>\n",
       "    </tr>\n",
       "    <tr>\n",
       "      <th>1</th>\n",
       "      <td>ЖК «Aquatoria (Акватория)»</td>\n",
       "      <td>м. Беломорская</td>\n",
       "      <td>Бизнес</td>\n",
       "      <td>2021—2023</td>\n",
       "      <td>11-21</td>\n",
       "      <td>Монолитный</td>\n",
       "      <td>55,7</td>\n",
       "      <td>21</td>\n",
       "      <td>138,5</td>\n",
       "      <td>376</td>\n",
       "      <td>656</td>\n",
       "      <td>0</td>\n",
       "      <td>7</td>\n",
       "      <td>7</td>\n",
       "      <td>22</td>\n",
       "      <td>4</td>\n",
       "      <td>0</td>\n",
       "    </tr>\n",
       "    <tr>\n",
       "      <th>2</th>\n",
       "      <td>ЖК «Триколор»</td>\n",
       "      <td>м. Ростокино</td>\n",
       "      <td>Бизнес</td>\n",
       "      <td>2015</td>\n",
       "      <td>10-58</td>\n",
       "      <td>Монолитно-кирпичный, монолитный</td>\n",
       "      <td>32,7</td>\n",
       "      <td>30,52</td>\n",
       "      <td>59,55</td>\n",
       "      <td>200</td>\n",
       "      <td>372</td>\n",
       "      <td>0</td>\n",
       "      <td>49</td>\n",
       "      <td>47</td>\n",
       "      <td>0</td>\n",
       "      <td>0</td>\n",
       "      <td>0</td>\n",
       "    </tr>\n",
       "    <tr>\n",
       "      <th>3</th>\n",
       "      <td>ЖК «Композиция №24»</td>\n",
       "      <td>м. Шаболовская</td>\n",
       "      <td>Бизнес</td>\n",
       "      <td>2021</td>\n",
       "      <td>8</td>\n",
       "      <td>Монолитный</td>\n",
       "      <td>94,9</td>\n",
       "      <td>91,98</td>\n",
       "      <td>99,99</td>\n",
       "      <td>619</td>\n",
       "      <td>627</td>\n",
       "      <td>0</td>\n",
       "      <td>0</td>\n",
       "      <td>0</td>\n",
       "      <td>3</td>\n",
       "      <td>0</td>\n",
       "      <td>0</td>\n",
       "    </tr>\n",
       "    <tr>\n",
       "      <th>4</th>\n",
       "      <td>ЖК «Поклонная 9»</td>\n",
       "      <td>м. Парк Победы</td>\n",
       "      <td>Премиум</td>\n",
       "      <td>2023</td>\n",
       "      <td>32</td>\n",
       "      <td>Монолитно-кирпичный</td>\n",
       "      <td>55,4</td>\n",
       "      <td>38,69</td>\n",
       "      <td>148,26</td>\n",
       "      <td>723</td>\n",
       "      <td>955</td>\n",
       "      <td>0</td>\n",
       "      <td>37</td>\n",
       "      <td>14</td>\n",
       "      <td>11</td>\n",
       "      <td>0</td>\n",
       "      <td>0</td>\n",
       "    </tr>\n",
       "    <tr>\n",
       "      <th>...</th>\n",
       "      <td>...</td>\n",
       "      <td>...</td>\n",
       "      <td>...</td>\n",
       "      <td>...</td>\n",
       "      <td>...</td>\n",
       "      <td>...</td>\n",
       "      <td>...</td>\n",
       "      <td>...</td>\n",
       "      <td>...</td>\n",
       "      <td>...</td>\n",
       "      <td>...</td>\n",
       "      <td>...</td>\n",
       "      <td>...</td>\n",
       "      <td>...</td>\n",
       "      <td>...</td>\n",
       "      <td>...</td>\n",
       "      <td>...</td>\n",
       "    </tr>\n",
       "    <tr>\n",
       "      <th>186</th>\n",
       "      <td>ЖК «Любовь и Голуби»</td>\n",
       "      <td>м. Селигерская</td>\n",
       "      <td>Комфорт</td>\n",
       "      <td>2020—2022</td>\n",
       "      <td>22</td>\n",
       "      <td>Монолитный</td>\n",
       "      <td>12,4</td>\n",
       "      <td>6,98</td>\n",
       "      <td>23,42</td>\n",
       "      <td>269</td>\n",
       "      <td>405</td>\n",
       "      <td>29</td>\n",
       "      <td>10</td>\n",
       "      <td>5</td>\n",
       "      <td>0</td>\n",
       "      <td>0</td>\n",
       "      <td>28</td>\n",
       "    </tr>\n",
       "    <tr>\n",
       "      <th>187</th>\n",
       "      <td>ЖК «Новое Медведково»</td>\n",
       "      <td>м. Медведково</td>\n",
       "      <td>Комфорт</td>\n",
       "      <td>2015—2023</td>\n",
       "      <td>15-18</td>\n",
       "      <td>Монолитно-кирпичный, монолитный</td>\n",
       "      <td>9,6</td>\n",
       "      <td>5,77</td>\n",
       "      <td>16,26</td>\n",
       "      <td>154</td>\n",
       "      <td>252</td>\n",
       "      <td>9</td>\n",
       "      <td>53</td>\n",
       "      <td>24</td>\n",
       "      <td>0</td>\n",
       "      <td>0</td>\n",
       "      <td>7</td>\n",
       "    </tr>\n",
       "    <tr>\n",
       "      <th>188</th>\n",
       "      <td>ЖК «Rafinad (Рафинад)»</td>\n",
       "      <td>м. Хлебниково</td>\n",
       "      <td>Комфорт</td>\n",
       "      <td>2022</td>\n",
       "      <td>7-8</td>\n",
       "      <td>Монолитный</td>\n",
       "      <td>10,0</td>\n",
       "      <td>7,12</td>\n",
       "      <td>13,19</td>\n",
       "      <td>149</td>\n",
       "      <td>215</td>\n",
       "      <td>61</td>\n",
       "      <td>216</td>\n",
       "      <td>42</td>\n",
       "      <td>0</td>\n",
       "      <td>0</td>\n",
       "      <td>0</td>\n",
       "    </tr>\n",
       "    <tr>\n",
       "      <th>189</th>\n",
       "      <td>ЖК «SELF (Сэлф)»</td>\n",
       "      <td>м. Бульвар Рокоссовского</td>\n",
       "      <td>Комфорт</td>\n",
       "      <td>2024</td>\n",
       "      <td>19-22</td>\n",
       "      <td>Монолитно-кирпичный, монолитный</td>\n",
       "      <td>15,6</td>\n",
       "      <td>9,09</td>\n",
       "      <td>26,24</td>\n",
       "      <td>247</td>\n",
       "      <td>336</td>\n",
       "      <td>7</td>\n",
       "      <td>7</td>\n",
       "      <td>6</td>\n",
       "      <td>0</td>\n",
       "      <td>0</td>\n",
       "      <td>4</td>\n",
       "    </tr>\n",
       "    <tr>\n",
       "      <th>190</th>\n",
       "      <td>ЖК «Серебряный фонтан»</td>\n",
       "      <td>м. Алексеевская</td>\n",
       "      <td>Бизнес</td>\n",
       "      <td>2019—2023</td>\n",
       "      <td>3-20</td>\n",
       "      <td>Монолитно-кирпичный</td>\n",
       "      <td>31,3</td>\n",
       "      <td>18,7</td>\n",
       "      <td>56,77</td>\n",
       "      <td>290</td>\n",
       "      <td>515</td>\n",
       "      <td>5</td>\n",
       "      <td>40</td>\n",
       "      <td>20</td>\n",
       "      <td>7</td>\n",
       "      <td>0</td>\n",
       "      <td>0</td>\n",
       "    </tr>\n",
       "  </tbody>\n",
       "</table>\n",
       "<p>191 rows × 17 columns</p>\n",
       "</div>"
      ],
      "text/plain": [
       "                                                    0   \\\n",
       "0    ЖК «Victory Park Residences (Виктори Парк Рези...   \n",
       "1                          ЖК «Aquatoria (Акватория)»    \n",
       "2                                       ЖК «Триколор»    \n",
       "3                                 ЖК «Композиция №24»    \n",
       "4                                    ЖК «Поклонная 9»    \n",
       "..                                                 ...   \n",
       "186                              ЖК «Любовь и Голуби»    \n",
       "187                             ЖК «Новое Медведково»    \n",
       "188                            ЖК «Rafinad (Рафинад)»    \n",
       "189                                  ЖК «SELF (Сэлф)»    \n",
       "190                            ЖК «Серебряный фонтан»    \n",
       "\n",
       "                           1        2          3      4   \\\n",
       "0              м. Парк Победы  Премиум       2023  10-11   \n",
       "1              м. Беломорская   Бизнес  2021—2023  11-21   \n",
       "2                м. Ростокино   Бизнес       2015  10-58   \n",
       "3              м. Шаболовская   Бизнес       2021      8   \n",
       "4              м. Парк Победы  Премиум       2023     32   \n",
       "..                        ...      ...        ...    ...   \n",
       "186            м. Селигерская  Комфорт  2020—2022     22   \n",
       "187             м. Медведково  Комфорт  2015—2023  15-18   \n",
       "188             м. Хлебниково  Комфорт       2022    7-8   \n",
       "189  м. Бульвар Рокоссовского  Комфорт       2024  19-22   \n",
       "190           м. Алексеевская   Бизнес  2019—2023   3-20   \n",
       "\n",
       "                                  5     6      7       8    9     10  11   12  \\\n",
       "0                         Монолитный  91,3  57,47  222,06  739  1235   0   41   \n",
       "1                         Монолитный  55,7     21   138,5  376   656   0    7   \n",
       "2    Монолитно-кирпичный, монолитный  32,7  30,52   59,55  200   372   0   49   \n",
       "3                         Монолитный  94,9  91,98   99,99  619   627   0    0   \n",
       "4                Монолитно-кирпичный  55,4  38,69  148,26  723   955   0   37   \n",
       "..                               ...   ...    ...     ...  ...   ...  ..  ...   \n",
       "186                       Монолитный  12,4   6,98   23,42  269   405  29   10   \n",
       "187  Монолитно-кирпичный, монолитный   9,6   5,77   16,26  154   252   9   53   \n",
       "188                       Монолитный  10,0   7,12   13,19  149   215  61  216   \n",
       "189  Монолитно-кирпичный, монолитный  15,6   9,09   26,24  247   336   7    7   \n",
       "190              Монолитно-кирпичный  31,3   18,7   56,77  290   515   5   40   \n",
       "\n",
       "     13  14 15  16  \n",
       "0    22   5  0   0  \n",
       "1     7  22  4   0  \n",
       "2    47   0  0   0  \n",
       "3     0   3  0   0  \n",
       "4    14  11  0   0  \n",
       "..   ..  .. ..  ..  \n",
       "186   5   0  0  28  \n",
       "187  24   0  0   7  \n",
       "188  42   0  0   0  \n",
       "189   6   0  0   4  \n",
       "190  20   7  0   0  \n",
       "\n",
       "[191 rows x 17 columns]"
      ]
     },
     "execution_count": 7,
     "metadata": {},
     "output_type": "execute_result"
    }
   ],
   "source": [
    "import pandas as pd\n",
    "allInfo = []\n",
    "# Используя массив ссылок полученный в начале, пройдемся по всем ссылкам и с помощью CollectInfo() получим данные.\n",
    "for url in finalURL:\n",
    "    try:\n",
    "        allInfo.append(CollectInfo(url))\n",
    "    except Exception:\n",
    "        continue\n",
    "df = pd.DataFrame(allInfo)\n",
    "df"
   ]
  },
  {
   "cell_type": "markdown",
   "metadata": {},
   "source": [
    "### Установим заголовки DataFrame"
   ]
  },
  {
   "cell_type": "code",
   "execution_count": 8,
   "metadata": {},
   "outputs": [
    {
     "data": {
      "text/html": [
       "<div>\n",
       "<style scoped>\n",
       "    .dataframe tbody tr th:only-of-type {\n",
       "        vertical-align: middle;\n",
       "    }\n",
       "\n",
       "    .dataframe tbody tr th {\n",
       "        vertical-align: top;\n",
       "    }\n",
       "\n",
       "    .dataframe thead th {\n",
       "        text-align: right;\n",
       "    }\n",
       "</style>\n",
       "<table border=\"1\" class=\"dataframe\">\n",
       "  <thead>\n",
       "    <tr style=\"text-align: right;\">\n",
       "      <th></th>\n",
       "      <th>Name</th>\n",
       "      <th>ClosestStation</th>\n",
       "      <th>Class</th>\n",
       "      <th>DateOfConstruction</th>\n",
       "      <th>FloorsNumber</th>\n",
       "      <th>Type</th>\n",
       "      <th>AvgPrice</th>\n",
       "      <th>FullPriceMin</th>\n",
       "      <th>FullPriceMax</th>\n",
       "      <th>PricePerMeterMin</th>\n",
       "      <th>PricePerMeterMax</th>\n",
       "      <th>1room</th>\n",
       "      <th>2rooms</th>\n",
       "      <th>3rooms</th>\n",
       "      <th>4rooms</th>\n",
       "      <th>5rooms</th>\n",
       "      <th>studios</th>\n",
       "    </tr>\n",
       "  </thead>\n",
       "  <tbody>\n",
       "    <tr>\n",
       "      <th>0</th>\n",
       "      <td>ЖК «Victory Park Residences (Виктори Парк Рези...</td>\n",
       "      <td>м. Парк Победы</td>\n",
       "      <td>Премиум</td>\n",
       "      <td>2023</td>\n",
       "      <td>10-11</td>\n",
       "      <td>Монолитный</td>\n",
       "      <td>91,3</td>\n",
       "      <td>57,47</td>\n",
       "      <td>222,06</td>\n",
       "      <td>739</td>\n",
       "      <td>1235</td>\n",
       "      <td>0</td>\n",
       "      <td>41</td>\n",
       "      <td>22</td>\n",
       "      <td>5</td>\n",
       "      <td>0</td>\n",
       "      <td>0</td>\n",
       "    </tr>\n",
       "    <tr>\n",
       "      <th>1</th>\n",
       "      <td>ЖК «Aquatoria (Акватория)»</td>\n",
       "      <td>м. Беломорская</td>\n",
       "      <td>Бизнес</td>\n",
       "      <td>2021—2023</td>\n",
       "      <td>11-21</td>\n",
       "      <td>Монолитный</td>\n",
       "      <td>55,7</td>\n",
       "      <td>21</td>\n",
       "      <td>138,5</td>\n",
       "      <td>376</td>\n",
       "      <td>656</td>\n",
       "      <td>0</td>\n",
       "      <td>7</td>\n",
       "      <td>7</td>\n",
       "      <td>22</td>\n",
       "      <td>4</td>\n",
       "      <td>0</td>\n",
       "    </tr>\n",
       "    <tr>\n",
       "      <th>2</th>\n",
       "      <td>ЖК «Триколор»</td>\n",
       "      <td>м. Ростокино</td>\n",
       "      <td>Бизнес</td>\n",
       "      <td>2015</td>\n",
       "      <td>10-58</td>\n",
       "      <td>Монолитно-кирпичный, монолитный</td>\n",
       "      <td>32,7</td>\n",
       "      <td>30,52</td>\n",
       "      <td>59,55</td>\n",
       "      <td>200</td>\n",
       "      <td>372</td>\n",
       "      <td>0</td>\n",
       "      <td>49</td>\n",
       "      <td>47</td>\n",
       "      <td>0</td>\n",
       "      <td>0</td>\n",
       "      <td>0</td>\n",
       "    </tr>\n",
       "    <tr>\n",
       "      <th>3</th>\n",
       "      <td>ЖК «Композиция №24»</td>\n",
       "      <td>м. Шаболовская</td>\n",
       "      <td>Бизнес</td>\n",
       "      <td>2021</td>\n",
       "      <td>8</td>\n",
       "      <td>Монолитный</td>\n",
       "      <td>94,9</td>\n",
       "      <td>91,98</td>\n",
       "      <td>99,99</td>\n",
       "      <td>619</td>\n",
       "      <td>627</td>\n",
       "      <td>0</td>\n",
       "      <td>0</td>\n",
       "      <td>0</td>\n",
       "      <td>3</td>\n",
       "      <td>0</td>\n",
       "      <td>0</td>\n",
       "    </tr>\n",
       "    <tr>\n",
       "      <th>4</th>\n",
       "      <td>ЖК «Поклонная 9»</td>\n",
       "      <td>м. Парк Победы</td>\n",
       "      <td>Премиум</td>\n",
       "      <td>2023</td>\n",
       "      <td>32</td>\n",
       "      <td>Монолитно-кирпичный</td>\n",
       "      <td>55,4</td>\n",
       "      <td>38,69</td>\n",
       "      <td>148,26</td>\n",
       "      <td>723</td>\n",
       "      <td>955</td>\n",
       "      <td>0</td>\n",
       "      <td>37</td>\n",
       "      <td>14</td>\n",
       "      <td>11</td>\n",
       "      <td>0</td>\n",
       "      <td>0</td>\n",
       "    </tr>\n",
       "    <tr>\n",
       "      <th>...</th>\n",
       "      <td>...</td>\n",
       "      <td>...</td>\n",
       "      <td>...</td>\n",
       "      <td>...</td>\n",
       "      <td>...</td>\n",
       "      <td>...</td>\n",
       "      <td>...</td>\n",
       "      <td>...</td>\n",
       "      <td>...</td>\n",
       "      <td>...</td>\n",
       "      <td>...</td>\n",
       "      <td>...</td>\n",
       "      <td>...</td>\n",
       "      <td>...</td>\n",
       "      <td>...</td>\n",
       "      <td>...</td>\n",
       "      <td>...</td>\n",
       "    </tr>\n",
       "    <tr>\n",
       "      <th>186</th>\n",
       "      <td>ЖК «Любовь и Голуби»</td>\n",
       "      <td>м. Селигерская</td>\n",
       "      <td>Комфорт</td>\n",
       "      <td>2020—2022</td>\n",
       "      <td>22</td>\n",
       "      <td>Монолитный</td>\n",
       "      <td>12,4</td>\n",
       "      <td>6,98</td>\n",
       "      <td>23,42</td>\n",
       "      <td>269</td>\n",
       "      <td>405</td>\n",
       "      <td>29</td>\n",
       "      <td>10</td>\n",
       "      <td>5</td>\n",
       "      <td>0</td>\n",
       "      <td>0</td>\n",
       "      <td>28</td>\n",
       "    </tr>\n",
       "    <tr>\n",
       "      <th>187</th>\n",
       "      <td>ЖК «Новое Медведково»</td>\n",
       "      <td>м. Медведково</td>\n",
       "      <td>Комфорт</td>\n",
       "      <td>2015—2023</td>\n",
       "      <td>15-18</td>\n",
       "      <td>Монолитно-кирпичный, монолитный</td>\n",
       "      <td>9,6</td>\n",
       "      <td>5,77</td>\n",
       "      <td>16,26</td>\n",
       "      <td>154</td>\n",
       "      <td>252</td>\n",
       "      <td>9</td>\n",
       "      <td>53</td>\n",
       "      <td>24</td>\n",
       "      <td>0</td>\n",
       "      <td>0</td>\n",
       "      <td>7</td>\n",
       "    </tr>\n",
       "    <tr>\n",
       "      <th>188</th>\n",
       "      <td>ЖК «Rafinad (Рафинад)»</td>\n",
       "      <td>м. Хлебниково</td>\n",
       "      <td>Комфорт</td>\n",
       "      <td>2022</td>\n",
       "      <td>7-8</td>\n",
       "      <td>Монолитный</td>\n",
       "      <td>10,0</td>\n",
       "      <td>7,12</td>\n",
       "      <td>13,19</td>\n",
       "      <td>149</td>\n",
       "      <td>215</td>\n",
       "      <td>61</td>\n",
       "      <td>216</td>\n",
       "      <td>42</td>\n",
       "      <td>0</td>\n",
       "      <td>0</td>\n",
       "      <td>0</td>\n",
       "    </tr>\n",
       "    <tr>\n",
       "      <th>189</th>\n",
       "      <td>ЖК «SELF (Сэлф)»</td>\n",
       "      <td>м. Бульвар Рокоссовского</td>\n",
       "      <td>Комфорт</td>\n",
       "      <td>2024</td>\n",
       "      <td>19-22</td>\n",
       "      <td>Монолитно-кирпичный, монолитный</td>\n",
       "      <td>15,6</td>\n",
       "      <td>9,09</td>\n",
       "      <td>26,24</td>\n",
       "      <td>247</td>\n",
       "      <td>336</td>\n",
       "      <td>7</td>\n",
       "      <td>7</td>\n",
       "      <td>6</td>\n",
       "      <td>0</td>\n",
       "      <td>0</td>\n",
       "      <td>4</td>\n",
       "    </tr>\n",
       "    <tr>\n",
       "      <th>190</th>\n",
       "      <td>ЖК «Серебряный фонтан»</td>\n",
       "      <td>м. Алексеевская</td>\n",
       "      <td>Бизнес</td>\n",
       "      <td>2019—2023</td>\n",
       "      <td>3-20</td>\n",
       "      <td>Монолитно-кирпичный</td>\n",
       "      <td>31,3</td>\n",
       "      <td>18,7</td>\n",
       "      <td>56,77</td>\n",
       "      <td>290</td>\n",
       "      <td>515</td>\n",
       "      <td>5</td>\n",
       "      <td>40</td>\n",
       "      <td>20</td>\n",
       "      <td>7</td>\n",
       "      <td>0</td>\n",
       "      <td>0</td>\n",
       "    </tr>\n",
       "  </tbody>\n",
       "</table>\n",
       "<p>191 rows × 17 columns</p>\n",
       "</div>"
      ],
      "text/plain": [
       "                                                  Name  \\\n",
       "0    ЖК «Victory Park Residences (Виктори Парк Рези...   \n",
       "1                          ЖК «Aquatoria (Акватория)»    \n",
       "2                                       ЖК «Триколор»    \n",
       "3                                 ЖК «Композиция №24»    \n",
       "4                                    ЖК «Поклонная 9»    \n",
       "..                                                 ...   \n",
       "186                              ЖК «Любовь и Голуби»    \n",
       "187                             ЖК «Новое Медведково»    \n",
       "188                            ЖК «Rafinad (Рафинад)»    \n",
       "189                                  ЖК «SELF (Сэлф)»    \n",
       "190                            ЖК «Серебряный фонтан»    \n",
       "\n",
       "               ClosestStation    Class DateOfConstruction FloorsNumber  \\\n",
       "0              м. Парк Победы  Премиум               2023        10-11   \n",
       "1              м. Беломорская   Бизнес          2021—2023        11-21   \n",
       "2                м. Ростокино   Бизнес               2015        10-58   \n",
       "3              м. Шаболовская   Бизнес               2021            8   \n",
       "4              м. Парк Победы  Премиум               2023           32   \n",
       "..                        ...      ...                ...          ...   \n",
       "186            м. Селигерская  Комфорт          2020—2022           22   \n",
       "187             м. Медведково  Комфорт          2015—2023        15-18   \n",
       "188             м. Хлебниково  Комфорт               2022          7-8   \n",
       "189  м. Бульвар Рокоссовского  Комфорт               2024        19-22   \n",
       "190           м. Алексеевская   Бизнес          2019—2023         3-20   \n",
       "\n",
       "                                Type AvgPrice FullPriceMin FullPriceMax  \\\n",
       "0                         Монолитный     91,3        57,47       222,06   \n",
       "1                         Монолитный     55,7           21        138,5   \n",
       "2    Монолитно-кирпичный, монолитный     32,7        30,52        59,55   \n",
       "3                         Монолитный     94,9        91,98        99,99   \n",
       "4                Монолитно-кирпичный     55,4        38,69       148,26   \n",
       "..                               ...      ...          ...          ...   \n",
       "186                       Монолитный     12,4         6,98        23,42   \n",
       "187  Монолитно-кирпичный, монолитный      9,6         5,77        16,26   \n",
       "188                       Монолитный     10,0         7,12        13,19   \n",
       "189  Монолитно-кирпичный, монолитный     15,6         9,09        26,24   \n",
       "190              Монолитно-кирпичный     31,3         18,7        56,77   \n",
       "\n",
       "    PricePerMeterMin PricePerMeterMax 1room 2rooms 3rooms 4rooms 5rooms  \\\n",
       "0                739             1235     0     41     22      5      0   \n",
       "1                376              656     0      7      7     22      4   \n",
       "2                200              372     0     49     47      0      0   \n",
       "3                619              627     0      0      0      3      0   \n",
       "4                723              955     0     37     14     11      0   \n",
       "..               ...              ...   ...    ...    ...    ...    ...   \n",
       "186              269              405    29     10      5      0      0   \n",
       "187              154              252     9     53     24      0      0   \n",
       "188              149              215    61    216     42      0      0   \n",
       "189              247              336     7      7      6      0      0   \n",
       "190              290              515     5     40     20      7      0   \n",
       "\n",
       "    studios  \n",
       "0         0  \n",
       "1         0  \n",
       "2         0  \n",
       "3         0  \n",
       "4         0  \n",
       "..      ...  \n",
       "186      28  \n",
       "187       7  \n",
       "188       0  \n",
       "189       4  \n",
       "190       0  \n",
       "\n",
       "[191 rows x 17 columns]"
      ]
     },
     "execution_count": 8,
     "metadata": {},
     "output_type": "execute_result"
    }
   ],
   "source": [
    "df.columns = ['Name', 'ClosestStation', 'Class','DateOfConstruction','FloorsNumber','Type','AvgPrice', 'FullPriceMin', 'FullPriceMax',\n",
    "            'PricePerMeterMin','PricePerMeterMax', '1room', '2rooms', '3rooms', '4rooms', '5rooms', 'studios']\n",
    "df"
   ]
  },
  {
   "cell_type": "markdown",
   "metadata": {},
   "source": [
    "### Сохраняем датафрейм в файл.\n"
   ]
  },
  {
   "cell_type": "code",
   "execution_count": 9,
   "metadata": {},
   "outputs": [],
   "source": [
    "df.to_excel('apartmentComplexes.xlsx')\n"
   ]
  },
  {
   "cell_type": "markdown",
   "metadata": {},
   "source": [
    "Результат сохранен в файл apartmentComplexes.xlsx"
   ]
  }
 ],
 "metadata": {
  "kernelspec": {
   "display_name": "Python 3 (ipykernel)",
   "language": "python",
   "name": "python3"
  },
  "language_info": {
   "codemirror_mode": {
    "name": "ipython",
    "version": 3
   },
   "file_extension": ".py",
   "mimetype": "text/x-python",
   "name": "python",
   "nbconvert_exporter": "python",
   "pygments_lexer": "ipython3",
   "version": "3.9.7"
  }
 },
 "nbformat": 4,
 "nbformat_minor": 2
}
